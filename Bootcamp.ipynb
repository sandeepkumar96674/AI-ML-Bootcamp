{
 "cells": [
  {
   "cell_type": "code",
   "execution_count": 1,
   "id": "279f7c50",
   "metadata": {},
   "outputs": [],
   "source": [
    "a=10"
   ]
  },
  {
   "cell_type": "code",
   "execution_count": 2,
   "id": "fbead9ff",
   "metadata": {},
   "outputs": [
    {
     "data": {
      "text/plain": [
       "10"
      ]
     },
     "execution_count": 2,
     "metadata": {},
     "output_type": "execute_result"
    }
   ],
   "source": [
    "a"
   ]
  },
  {
   "cell_type": "code",
   "execution_count": 3,
   "id": "cb1b942d",
   "metadata": {},
   "outputs": [
    {
     "data": {
      "text/plain": [
       "33"
      ]
     },
     "execution_count": 3,
     "metadata": {},
     "output_type": "execute_result"
    }
   ],
   "source": [
    "a+23"
   ]
  },
  {
   "cell_type": "code",
   "execution_count": 4,
   "id": "b3a3d3c1",
   "metadata": {},
   "outputs": [
    {
     "data": {
      "text/plain": [
       "int"
      ]
     },
     "execution_count": 4,
     "metadata": {},
     "output_type": "execute_result"
    }
   ],
   "source": [
    "type(a)"
   ]
  },
  {
   "cell_type": "code",
   "execution_count": 5,
   "id": "7a459763",
   "metadata": {},
   "outputs": [],
   "source": [
    "s=\"Sandeep\""
   ]
  },
  {
   "cell_type": "code",
   "execution_count": 6,
   "id": "cd0c3e59",
   "metadata": {},
   "outputs": [
    {
     "data": {
      "text/plain": [
       "str"
      ]
     },
     "execution_count": 6,
     "metadata": {},
     "output_type": "execute_result"
    }
   ],
   "source": [
    "type(s)"
   ]
  },
  {
   "cell_type": "code",
   "execution_count": 154,
   "id": "a2cee45d",
   "metadata": {},
   "outputs": [],
   "source": [
    "S=\"sandeep\""
   ]
  },
  {
   "cell_type": "code",
   "execution_count": 155,
   "id": "fb5c1ca2",
   "metadata": {},
   "outputs": [
    {
     "data": {
      "text/plain": [
       "str"
      ]
     },
     "execution_count": 155,
     "metadata": {},
     "output_type": "execute_result"
    }
   ],
   "source": [
    "type(S)"
   ]
  },
  {
   "cell_type": "code",
   "execution_count": 156,
   "id": "5218eb43",
   "metadata": {},
   "outputs": [
    {
     "data": {
      "text/plain": [
       "1712106813936"
      ]
     },
     "execution_count": 156,
     "metadata": {},
     "output_type": "execute_result"
    }
   ],
   "source": [
    "id(s)"
   ]
  },
  {
   "cell_type": "code",
   "execution_count": 157,
   "id": "c156c3c4",
   "metadata": {},
   "outputs": [],
   "source": [
    "add1=id(S)"
   ]
  },
  {
   "cell_type": "code",
   "execution_count": 13,
   "id": "7ac672bc",
   "metadata": {},
   "outputs": [],
   "source": [
    "n=23.53"
   ]
  },
  {
   "cell_type": "code",
   "execution_count": 14,
   "id": "96952c8a",
   "metadata": {},
   "outputs": [
    {
     "data": {
      "text/plain": [
       "float"
      ]
     },
     "execution_count": 14,
     "metadata": {},
     "output_type": "execute_result"
    }
   ],
   "source": [
    "type(n)"
   ]
  },
  {
   "cell_type": "code",
   "execution_count": 18,
   "id": "ccf89a5e",
   "metadata": {},
   "outputs": [
    {
     "ename": "SyntaxError",
     "evalue": "invalid syntax (2410767829.py, line 1)",
     "output_type": "error",
     "traceback": [
      "\u001b[1;36m  Input \u001b[1;32mIn [18]\u001b[1;36m\u001b[0m\n\u001b[1;33m    s% = \"ss\"\u001b[0m\n\u001b[1;37m       ^\u001b[0m\n\u001b[1;31mSyntaxError\u001b[0m\u001b[1;31m:\u001b[0m invalid syntax\n"
     ]
    }
   ],
   "source": [
    "s% = \"ss\""
   ]
  },
  {
   "cell_type": "code",
   "execution_count": 19,
   "id": "168f1061",
   "metadata": {},
   "outputs": [],
   "source": [
    "a=True"
   ]
  },
  {
   "cell_type": "code",
   "execution_count": 20,
   "id": "1524cec9",
   "metadata": {},
   "outputs": [
    {
     "data": {
      "text/plain": [
       "bool"
      ]
     },
     "execution_count": 20,
     "metadata": {},
     "output_type": "execute_result"
    }
   ],
   "source": [
    "type(a)"
   ]
  },
  {
   "cell_type": "code",
   "execution_count": 21,
   "id": "252e98f6",
   "metadata": {},
   "outputs": [
    {
     "data": {
      "text/plain": [
       "140709861709928"
      ]
     },
     "execution_count": 21,
     "metadata": {},
     "output_type": "execute_result"
    }
   ],
   "source": [
    "id(a)"
   ]
  },
  {
   "cell_type": "code",
   "execution_count": 22,
   "id": "55f8d02b",
   "metadata": {},
   "outputs": [
    {
     "data": {
      "text/plain": [
       "1"
      ]
     },
     "execution_count": 22,
     "metadata": {},
     "output_type": "execute_result"
    }
   ],
   "source": [
    "True + False"
   ]
  },
  {
   "cell_type": "code",
   "execution_count": 23,
   "id": "b4ddf199",
   "metadata": {},
   "outputs": [
    {
     "data": {
      "text/plain": [
       "0"
      ]
     },
     "execution_count": 23,
     "metadata": {},
     "output_type": "execute_result"
    }
   ],
   "source": [
    "False + False"
   ]
  },
  {
   "cell_type": "code",
   "execution_count": 24,
   "id": "a523b700",
   "metadata": {},
   "outputs": [
    {
     "data": {
      "text/plain": [
       "2"
      ]
     },
     "execution_count": 24,
     "metadata": {},
     "output_type": "execute_result"
    }
   ],
   "source": [
    "True + True"
   ]
  },
  {
   "cell_type": "code",
   "execution_count": 25,
   "id": "fadfed7a",
   "metadata": {},
   "outputs": [],
   "source": [
    "c=1+3j"
   ]
  },
  {
   "cell_type": "code",
   "execution_count": 26,
   "id": "3166f595",
   "metadata": {},
   "outputs": [
    {
     "data": {
      "text/plain": [
       "complex"
      ]
     },
     "execution_count": 26,
     "metadata": {},
     "output_type": "execute_result"
    }
   ],
   "source": [
    "type(c)"
   ]
  },
  {
   "cell_type": "code",
   "execution_count": 27,
   "id": "bcabf749",
   "metadata": {},
   "outputs": [
    {
     "data": {
      "text/plain": [
       "3.0"
      ]
     },
     "execution_count": 27,
     "metadata": {},
     "output_type": "execute_result"
    }
   ],
   "source": [
    "c.imag"
   ]
  },
  {
   "cell_type": "code",
   "execution_count": 28,
   "id": "edffe857",
   "metadata": {},
   "outputs": [
    {
     "data": {
      "text/plain": [
       "1.0"
      ]
     },
     "execution_count": 28,
     "metadata": {},
     "output_type": "execute_result"
    }
   ],
   "source": [
    "c.real"
   ]
  },
  {
   "cell_type": "code",
   "execution_count": 32,
   "id": "a1946d3b",
   "metadata": {},
   "outputs": [],
   "source": [
    "d=complex(3,-6)"
   ]
  },
  {
   "cell_type": "code",
   "execution_count": 33,
   "id": "32a76247",
   "metadata": {},
   "outputs": [
    {
     "data": {
      "text/plain": [
       "(3-6j)"
      ]
     },
     "execution_count": 33,
     "metadata": {},
     "output_type": "execute_result"
    }
   ],
   "source": [
    "d"
   ]
  },
  {
   "cell_type": "code",
   "execution_count": 34,
   "id": "0ad42302",
   "metadata": {},
   "outputs": [],
   "source": [
    "f=23"
   ]
  },
  {
   "cell_type": "code",
   "execution_count": 35,
   "id": "59cf6318",
   "metadata": {},
   "outputs": [
    {
     "data": {
      "text/plain": [
       "26"
      ]
     },
     "execution_count": 35,
     "metadata": {},
     "output_type": "execute_result"
    }
   ],
   "source": [
    "f+3"
   ]
  },
  {
   "cell_type": "code",
   "execution_count": 36,
   "id": "61d06e6c",
   "metadata": {},
   "outputs": [],
   "source": [
    "g=\"ad\""
   ]
  },
  {
   "cell_type": "code",
   "execution_count": 37,
   "id": "10ef299c",
   "metadata": {},
   "outputs": [
    {
     "ename": "TypeError",
     "evalue": "can only concatenate str (not \"int\") to str",
     "output_type": "error",
     "traceback": [
      "\u001b[1;31m---------------------------------------------------------------------------\u001b[0m",
      "\u001b[1;31mTypeError\u001b[0m                                 Traceback (most recent call last)",
      "Input \u001b[1;32mIn [37]\u001b[0m, in \u001b[0;36m<cell line: 1>\u001b[1;34m()\u001b[0m\n\u001b[1;32m----> 1\u001b[0m \u001b[43mg\u001b[49m\u001b[38;5;241;43m+\u001b[39;49m\u001b[38;5;241;43m3\u001b[39;49m\n",
      "\u001b[1;31mTypeError\u001b[0m: can only concatenate str (not \"int\") to str"
     ]
    }
   ],
   "source": [
    "g+3"
   ]
  },
  {
   "cell_type": "code",
   "execution_count": 38,
   "id": "ff0d4dba",
   "metadata": {},
   "outputs": [],
   "source": [
    "s=\"Sandeep\""
   ]
  },
  {
   "cell_type": "code",
   "execution_count": 39,
   "id": "1f6fd488",
   "metadata": {},
   "outputs": [
    {
     "data": {
      "text/plain": [
       "'n'"
      ]
     },
     "execution_count": 39,
     "metadata": {},
     "output_type": "execute_result"
    }
   ],
   "source": [
    "s[2]"
   ]
  },
  {
   "cell_type": "code",
   "execution_count": 40,
   "id": "3cf517ed",
   "metadata": {},
   "outputs": [
    {
     "data": {
      "text/plain": [
       "'nde'"
      ]
     },
     "execution_count": 40,
     "metadata": {},
     "output_type": "execute_result"
    }
   ],
   "source": [
    "s[2:5]"
   ]
  },
  {
   "cell_type": "code",
   "execution_count": 41,
   "id": "cf42867b",
   "metadata": {},
   "outputs": [
    {
     "data": {
      "text/plain": [
       "''"
      ]
     },
     "execution_count": 41,
     "metadata": {},
     "output_type": "execute_result"
    }
   ],
   "source": [
    "s[5:2]"
   ]
  },
  {
   "cell_type": "code",
   "execution_count": 42,
   "id": "f77ab684",
   "metadata": {},
   "outputs": [
    {
     "data": {
      "text/plain": [
       "'eed'"
      ]
     },
     "execution_count": 42,
     "metadata": {},
     "output_type": "execute_result"
    }
   ],
   "source": [
    "s[5:2:-1]"
   ]
  },
  {
   "cell_type": "code",
   "execution_count": 43,
   "id": "1eeb5f7d",
   "metadata": {},
   "outputs": [
    {
     "data": {
      "text/plain": [
       "'nd'"
      ]
     },
     "execution_count": 43,
     "metadata": {},
     "output_type": "execute_result"
    }
   ],
   "source": [
    "s[2:-3]"
   ]
  },
  {
   "cell_type": "code",
   "execution_count": 44,
   "id": "f184cd50",
   "metadata": {},
   "outputs": [
    {
     "data": {
      "text/plain": [
       "''"
      ]
     },
     "execution_count": 44,
     "metadata": {},
     "output_type": "execute_result"
    }
   ],
   "source": [
    "s[-2:-6]"
   ]
  },
  {
   "cell_type": "code",
   "execution_count": 45,
   "id": "8169e527",
   "metadata": {},
   "outputs": [
    {
     "data": {
      "text/plain": [
       "'eedn'"
      ]
     },
     "execution_count": 45,
     "metadata": {},
     "output_type": "execute_result"
    }
   ],
   "source": [
    "s[-2:-6:-1]"
   ]
  },
  {
   "cell_type": "code",
   "execution_count": 87,
   "id": "8af0c471",
   "metadata": {},
   "outputs": [],
   "source": [
    "s=\"This is my very first programming class's\""
   ]
  },
  {
   "cell_type": "code",
   "execution_count": 49,
   "id": "89495453",
   "metadata": {},
   "outputs": [
    {
     "data": {
      "text/plain": [
       "str"
      ]
     },
     "execution_count": 49,
     "metadata": {},
     "output_type": "execute_result"
    }
   ],
   "source": [
    "type(s)"
   ]
  },
  {
   "cell_type": "code",
   "execution_count": 52,
   "id": "2e98617e",
   "metadata": {},
   "outputs": [
    {
     "data": {
      "text/plain": [
       "'t p'"
      ]
     },
     "execution_count": 52,
     "metadata": {},
     "output_type": "execute_result"
    }
   ],
   "source": [
    "s[20:23]"
   ]
  },
  {
   "cell_type": "code",
   "execution_count": 53,
   "id": "78a007ee",
   "metadata": {},
   "outputs": [
    {
     "data": {
      "text/plain": [
       "'is is my very first programming '"
      ]
     },
     "execution_count": 53,
     "metadata": {},
     "output_type": "execute_result"
    }
   ],
   "source": [
    "s[2:34]"
   ]
  },
  {
   "cell_type": "code",
   "execution_count": 54,
   "id": "05c47565",
   "metadata": {},
   "outputs": [
    {
     "data": {
      "text/plain": [
       "'is is'"
      ]
     },
     "execution_count": 54,
     "metadata": {},
     "output_type": "execute_result"
    }
   ],
   "source": [
    "s[2:7]"
   ]
  },
  {
   "cell_type": "code",
   "execution_count": 55,
   "id": "3bcbd6cf",
   "metadata": {},
   "outputs": [
    {
     "data": {
      "text/plain": [
       "' sm eyfrtpo'"
      ]
     },
     "execution_count": 55,
     "metadata": {},
     "output_type": "execute_result"
    }
   ],
   "source": [
    "s[4:26:2]"
   ]
  },
  {
   "cell_type": "code",
   "execution_count": 56,
   "id": "cdf237ba",
   "metadata": {},
   "outputs": [],
   "source": [
    "s=\"Python\""
   ]
  },
  {
   "cell_type": "code",
   "execution_count": 57,
   "id": "f8c9cd04",
   "metadata": {},
   "outputs": [
    {
     "data": {
      "text/plain": [
       "'nohtyP'"
      ]
     },
     "execution_count": 57,
     "metadata": {},
     "output_type": "execute_result"
    }
   ],
   "source": [
    "s[::-1]"
   ]
  },
  {
   "cell_type": "code",
   "execution_count": 58,
   "id": "ff608919",
   "metadata": {},
   "outputs": [
    {
     "data": {
      "text/plain": [
       "'Pyt'"
      ]
     },
     "execution_count": 58,
     "metadata": {},
     "output_type": "execute_result"
    }
   ],
   "source": [
    "s[:-3]"
   ]
  },
  {
   "cell_type": "code",
   "execution_count": 59,
   "id": "4b65d9b8",
   "metadata": {},
   "outputs": [
    {
     "data": {
      "text/plain": [
       "'hon'"
      ]
     },
     "execution_count": 59,
     "metadata": {},
     "output_type": "execute_result"
    }
   ],
   "source": [
    "s[-3:]"
   ]
  },
  {
   "cell_type": "code",
   "execution_count": 60,
   "id": "6a0975f3",
   "metadata": {},
   "outputs": [
    {
     "data": {
      "text/plain": [
       "'Pytho'"
      ]
     },
     "execution_count": 60,
     "metadata": {},
     "output_type": "execute_result"
    }
   ],
   "source": [
    "s[-7:-1:1]"
   ]
  },
  {
   "cell_type": "code",
   "execution_count": 62,
   "id": "29b07957",
   "metadata": {},
   "outputs": [
    {
     "data": {
      "text/plain": [
       "''"
      ]
     },
     "execution_count": 62,
     "metadata": {},
     "output_type": "execute_result"
    }
   ],
   "source": [
    "s[-7:0:1]"
   ]
  },
  {
   "cell_type": "code",
   "execution_count": 63,
   "id": "93de8bd5",
   "metadata": {},
   "outputs": [
    {
     "data": {
      "text/plain": [
       "'nohty'"
      ]
     },
     "execution_count": 63,
     "metadata": {},
     "output_type": "execute_result"
    }
   ],
   "source": [
    "s[8:0:-1]"
   ]
  },
  {
   "cell_type": "code",
   "execution_count": 64,
   "id": "74652bae",
   "metadata": {},
   "outputs": [
    {
     "data": {
      "text/plain": [
       "''"
      ]
     },
     "execution_count": 64,
     "metadata": {},
     "output_type": "execute_result"
    }
   ],
   "source": [
    "s[8:0:1]"
   ]
  },
  {
   "cell_type": "code",
   "execution_count": 65,
   "id": "30621173",
   "metadata": {},
   "outputs": [
    {
     "data": {
      "text/plain": [
       "'Python'"
      ]
     },
     "execution_count": 65,
     "metadata": {},
     "output_type": "execute_result"
    }
   ],
   "source": [
    "s[0:8]"
   ]
  },
  {
   "cell_type": "code",
   "execution_count": 67,
   "id": "855a79bf",
   "metadata": {},
   "outputs": [
    {
     "data": {
      "text/plain": [
       "'no'"
      ]
     },
     "execution_count": 67,
     "metadata": {},
     "output_type": "execute_result"
    }
   ],
   "source": [
    "s[8:3:-1]"
   ]
  },
  {
   "cell_type": "code",
   "execution_count": 69,
   "id": "2ca46c38",
   "metadata": {},
   "outputs": [
    {
     "data": {
      "text/plain": [
       "2"
      ]
     },
     "execution_count": 69,
     "metadata": {},
     "output_type": "execute_result"
    }
   ],
   "source": [
    "s.count(\"is\")"
   ]
  },
  {
   "cell_type": "code",
   "execution_count": 72,
   "id": "f91ead25",
   "metadata": {},
   "outputs": [
    {
     "data": {
      "text/plain": [
       "['This', 'is', 'my', 'very', 'first', 'programming', \"class's\"]"
      ]
     },
     "execution_count": 72,
     "metadata": {},
     "output_type": "execute_result"
    }
   ],
   "source": [
    "s.split(\" \")"
   ]
  },
  {
   "cell_type": "code",
   "execution_count": 71,
   "id": "bb4d6b09",
   "metadata": {},
   "outputs": [
    {
     "data": {
      "text/plain": [
       "str"
      ]
     },
     "execution_count": 71,
     "metadata": {},
     "output_type": "execute_result"
    }
   ],
   "source": [
    "type(s)"
   ]
  },
  {
   "cell_type": "code",
   "execution_count": 74,
   "id": "ea660a48",
   "metadata": {},
   "outputs": [
    {
     "data": {
      "text/plain": [
       "\"This is my very first programming class's\""
      ]
     },
     "execution_count": 74,
     "metadata": {},
     "output_type": "execute_result"
    }
   ],
   "source": [
    "s.capitalize()"
   ]
  },
  {
   "cell_type": "code",
   "execution_count": 88,
   "id": "9cb589f9",
   "metadata": {},
   "outputs": [
    {
     "data": {
      "text/plain": [
       "\"THIS IS MY VERY FIRST PROGRAMMING CLASS'S\""
      ]
     },
     "execution_count": 88,
     "metadata": {},
     "output_type": "execute_result"
    }
   ],
   "source": [
    "s.upper()"
   ]
  },
  {
   "cell_type": "code",
   "execution_count": 89,
   "id": "4ddedba9",
   "metadata": {},
   "outputs": [
    {
     "data": {
      "text/plain": [
       "\"This is my very first programming class's\""
      ]
     },
     "execution_count": 89,
     "metadata": {},
     "output_type": "execute_result"
    }
   ],
   "source": [
    "s"
   ]
  },
  {
   "cell_type": "code",
   "execution_count": 78,
   "id": "c6c028f7",
   "metadata": {},
   "outputs": [
    {
     "data": {
      "text/plain": [
       "\"THIS IS MY VERY FIRST PROGRAMMING CLASS'S\""
      ]
     },
     "execution_count": 78,
     "metadata": {},
     "output_type": "execute_result"
    }
   ],
   "source": [
    "s1"
   ]
  },
  {
   "cell_type": "code",
   "execution_count": 79,
   "id": "f7f12a89",
   "metadata": {},
   "outputs": [
    {
     "data": {
      "text/plain": [
       "\"This Is My Very First Programming Class'S\""
      ]
     },
     "execution_count": 79,
     "metadata": {},
     "output_type": "execute_result"
    }
   ],
   "source": [
    "s.title()"
   ]
  },
  {
   "cell_type": "code",
   "execution_count": 80,
   "id": "1b62e6ac",
   "metadata": {},
   "outputs": [
    {
     "data": {
      "text/plain": [
       "\"This is my very first programming class's\""
      ]
     },
     "execution_count": 80,
     "metadata": {},
     "output_type": "execute_result"
    }
   ],
   "source": [
    "s.capitalize()"
   ]
  },
  {
   "cell_type": "code",
   "execution_count": 81,
   "id": "c372eba7",
   "metadata": {},
   "outputs": [
    {
     "data": {
      "text/plain": [
       "\"tHIS IS MY VERY FIRST PROGRAMMING CLASS'S\""
      ]
     },
     "execution_count": 81,
     "metadata": {},
     "output_type": "execute_result"
    }
   ],
   "source": [
    "s.swapcase()"
   ]
  },
  {
   "cell_type": "code",
   "execution_count": 82,
   "id": "b9fb5ee7",
   "metadata": {},
   "outputs": [
    {
     "data": {
      "text/plain": [
       "\"this is my very first programming class's\""
      ]
     },
     "execution_count": 82,
     "metadata": {},
     "output_type": "execute_result"
    }
   ],
   "source": [
    "s1.swapcase()"
   ]
  },
  {
   "cell_type": "code",
   "execution_count": 91,
   "id": "05851a75",
   "metadata": {},
   "outputs": [
    {
     "data": {
      "text/plain": [
       "\"s'ssalc gnimmargorp tsrif yrev ym si sihT\""
      ]
     },
     "execution_count": 91,
     "metadata": {},
     "output_type": "execute_result"
    }
   ],
   "source": [
    "\"\".join(reversed(s))"
   ]
  },
  {
   "cell_type": "code",
   "execution_count": 94,
   "id": "461aff8d",
   "metadata": {},
   "outputs": [],
   "source": [
    "s =\"  H E L    L    O  \""
   ]
  },
  {
   "cell_type": "code",
   "execution_count": 93,
   "id": "c115b256",
   "metadata": {},
   "outputs": [
    {
     "data": {
      "text/plain": [
       "'H E L    L    o'"
      ]
     },
     "execution_count": 93,
     "metadata": {},
     "output_type": "execute_result"
    }
   ],
   "source": [
    "s.strip()"
   ]
  },
  {
   "cell_type": "code",
   "execution_count": 95,
   "id": "748a5dbc",
   "metadata": {},
   "outputs": [
    {
     "data": {
      "text/plain": [
       "'Saaanadaeaeap'"
      ]
     },
     "execution_count": 95,
     "metadata": {},
     "output_type": "execute_result"
    }
   ],
   "source": [
    "\"a\".join(\"Sandeep\")"
   ]
  },
  {
   "cell_type": "code",
   "execution_count": 97,
   "id": "4e83a65c",
   "metadata": {},
   "outputs": [],
   "source": [
    "s=\"Sandeep\""
   ]
  },
  {
   "cell_type": "code",
   "execution_count": 99,
   "id": "eb38ceda",
   "metadata": {},
   "outputs": [
    {
     "data": {
      "text/plain": [
       "'******Sandeep*******'"
      ]
     },
     "execution_count": 99,
     "metadata": {},
     "output_type": "execute_result"
    }
   ],
   "source": [
    "s.center(20,\"*\")"
   ]
  },
  {
   "cell_type": "code",
   "execution_count": 100,
   "id": "e7d032ee",
   "metadata": {},
   "outputs": [],
   "source": [
    "a=\"  \""
   ]
  },
  {
   "cell_type": "code",
   "execution_count": 101,
   "id": "633abaf7",
   "metadata": {},
   "outputs": [
    {
     "data": {
      "text/plain": [
       "False"
      ]
     },
     "execution_count": 101,
     "metadata": {},
     "output_type": "execute_result"
    }
   ],
   "source": [
    "a.islower()"
   ]
  },
  {
   "cell_type": "code",
   "execution_count": 102,
   "id": "153acf03",
   "metadata": {},
   "outputs": [
    {
     "data": {
      "text/plain": [
       "False"
      ]
     },
     "execution_count": 102,
     "metadata": {},
     "output_type": "execute_result"
    }
   ],
   "source": [
    "a.isupper()"
   ]
  },
  {
   "cell_type": "code",
   "execution_count": 103,
   "id": "105e1145",
   "metadata": {},
   "outputs": [
    {
     "data": {
      "text/plain": [
       "True"
      ]
     },
     "execution_count": 103,
     "metadata": {},
     "output_type": "execute_result"
    }
   ],
   "source": [
    "a.isprintable()"
   ]
  },
  {
   "cell_type": "code",
   "execution_count": 104,
   "id": "ae3b87d6",
   "metadata": {},
   "outputs": [
    {
     "data": {
      "text/plain": [
       "'  '"
      ]
     },
     "execution_count": 104,
     "metadata": {},
     "output_type": "execute_result"
    }
   ],
   "source": [
    "a"
   ]
  },
  {
   "cell_type": "code",
   "execution_count": 105,
   "id": "60c79136",
   "metadata": {},
   "outputs": [
    {
     "data": {
      "text/plain": [
       "False"
      ]
     },
     "execution_count": 105,
     "metadata": {},
     "output_type": "execute_result"
    }
   ],
   "source": [
    "a.istitle()"
   ]
  },
  {
   "cell_type": "code",
   "execution_count": 113,
   "id": "49756050",
   "metadata": {},
   "outputs": [],
   "source": [
    "b=\"1212324\""
   ]
  },
  {
   "cell_type": "code",
   "execution_count": 107,
   "id": "ae863ace",
   "metadata": {},
   "outputs": [
    {
     "data": {
      "text/plain": [
       "True"
      ]
     },
     "execution_count": 107,
     "metadata": {},
     "output_type": "execute_result"
    }
   ],
   "source": [
    "b.isnumeric()"
   ]
  },
  {
   "cell_type": "code",
   "execution_count": 108,
   "id": "603b83fc",
   "metadata": {},
   "outputs": [
    {
     "data": {
      "text/plain": [
       "False"
      ]
     },
     "execution_count": 108,
     "metadata": {},
     "output_type": "execute_result"
    }
   ],
   "source": [
    "b.isalpha()"
   ]
  },
  {
   "cell_type": "code",
   "execution_count": 109,
   "id": "3055c986",
   "metadata": {},
   "outputs": [
    {
     "data": {
      "text/plain": [
       "True"
      ]
     },
     "execution_count": 109,
     "metadata": {},
     "output_type": "execute_result"
    }
   ],
   "source": [
    "b.isdigit()"
   ]
  },
  {
   "cell_type": "code",
   "execution_count": 114,
   "id": "cc1539be",
   "metadata": {},
   "outputs": [
    {
     "data": {
      "text/plain": [
       "False"
      ]
     },
     "execution_count": 114,
     "metadata": {},
     "output_type": "execute_result"
    }
   ],
   "source": [
    "b.isspace()"
   ]
  },
  {
   "cell_type": "code",
   "execution_count": 115,
   "id": "10aa5aef",
   "metadata": {},
   "outputs": [],
   "source": [
    "s=\"Sandeep\""
   ]
  },
  {
   "cell_type": "code",
   "execution_count": 116,
   "id": "4c6fb0c5",
   "metadata": {},
   "outputs": [
    {
     "data": {
      "text/plain": [
       "False"
      ]
     },
     "execution_count": 116,
     "metadata": {},
     "output_type": "execute_result"
    }
   ],
   "source": [
    "s.isspace()"
   ]
  },
  {
   "cell_type": "code",
   "execution_count": 117,
   "id": "dc30d3be",
   "metadata": {},
   "outputs": [],
   "source": [
    "s=\"S    and  eeep\""
   ]
  },
  {
   "cell_type": "code",
   "execution_count": 118,
   "id": "9074df91",
   "metadata": {},
   "outputs": [
    {
     "data": {
      "text/plain": [
       "False"
      ]
     },
     "execution_count": 118,
     "metadata": {},
     "output_type": "execute_result"
    }
   ],
   "source": [
    "s.isspace()"
   ]
  },
  {
   "cell_type": "code",
   "execution_count": 140,
   "id": "3acf85ae",
   "metadata": {},
   "outputs": [],
   "source": [
    "s=\"Sandy123    \""
   ]
  },
  {
   "cell_type": "code",
   "execution_count": 141,
   "id": "358824a1",
   "metadata": {},
   "outputs": [
    {
     "data": {
      "text/plain": [
       "False"
      ]
     },
     "execution_count": 141,
     "metadata": {},
     "output_type": "execute_result"
    }
   ],
   "source": [
    "s.isalnum()"
   ]
  },
  {
   "cell_type": "code",
   "execution_count": 131,
   "id": "647007c3",
   "metadata": {},
   "outputs": [
    {
     "data": {
      "text/plain": [
       "'Sandy123'"
      ]
     },
     "execution_count": 131,
     "metadata": {},
     "output_type": "execute_result"
    }
   ],
   "source": [
    "s.format()"
   ]
  },
  {
   "cell_type": "code",
   "execution_count": 142,
   "id": "d27fa428",
   "metadata": {},
   "outputs": [],
   "source": [
    "s=\"2334325235\""
   ]
  },
  {
   "cell_type": "code",
   "execution_count": 143,
   "id": "81386c0f",
   "metadata": {},
   "outputs": [
    {
     "data": {
      "text/plain": [
       "True"
      ]
     },
     "execution_count": 143,
     "metadata": {},
     "output_type": "execute_result"
    }
   ],
   "source": [
    "s.isnumeric()"
   ]
  },
  {
   "cell_type": "code",
   "execution_count": 144,
   "id": "cc863c22",
   "metadata": {},
   "outputs": [],
   "source": [
    "s=\"23343 25235\""
   ]
  },
  {
   "cell_type": "code",
   "execution_count": 145,
   "id": "f2e215ab",
   "metadata": {},
   "outputs": [
    {
     "data": {
      "text/plain": [
       "False"
      ]
     },
     "execution_count": 145,
     "metadata": {},
     "output_type": "execute_result"
    }
   ],
   "source": [
    "s.isnumeric()"
   ]
  },
  {
   "cell_type": "code",
   "execution_count": 151,
   "id": "18f28b9e",
   "metadata": {},
   "outputs": [],
   "source": [
    "add=id(s)"
   ]
  },
  {
   "cell_type": "code",
   "execution_count": 158,
   "id": "c04517ee",
   "metadata": {},
   "outputs": [],
   "source": [
    "var2 = [x for x in globals().values() if id(x)==add1]"
   ]
  },
  {
   "cell_type": "code",
   "execution_count": 159,
   "id": "f5c41971",
   "metadata": {},
   "outputs": [
    {
     "data": {
      "text/plain": [
       "['sandeep']"
      ]
     },
     "execution_count": 159,
     "metadata": {},
     "output_type": "execute_result"
    }
   ],
   "source": [
    "var2"
   ]
  },
  {
   "cell_type": "code",
   "execution_count": 163,
   "id": "74534ce5",
   "metadata": {},
   "outputs": [],
   "source": [
    "s=\"my\\tname\\tis\\tSandeep\""
   ]
  },
  {
   "cell_type": "code",
   "execution_count": 164,
   "id": "b54ebc3b",
   "metadata": {},
   "outputs": [
    {
     "data": {
      "text/plain": [
       "'my\\tname\\tis\\tSandeep'"
      ]
     },
     "execution_count": 164,
     "metadata": {},
     "output_type": "execute_result"
    }
   ],
   "source": [
    "s"
   ]
  },
  {
   "cell_type": "code",
   "execution_count": 165,
   "id": "d7c483ee",
   "metadata": {},
   "outputs": [
    {
     "data": {
      "text/plain": [
       "'my      name    is      Sandeep'"
      ]
     },
     "execution_count": 165,
     "metadata": {},
     "output_type": "execute_result"
    }
   ],
   "source": [
    "s.expandtabs()"
   ]
  },
  {
   "cell_type": "markdown",
   "id": "9016fdf5",
   "metadata": {},
   "source": [
    "> #### List, Tuple, Set and Dictionary"
   ]
  },
  {
   "cell_type": "code",
   "execution_count": 166,
   "id": "7fb4b864",
   "metadata": {},
   "outputs": [],
   "source": [
    "l=[1,2,3,4,5,\"Sandeep\",213.13,True]"
   ]
  },
  {
   "cell_type": "code",
   "execution_count": 167,
   "id": "5f8952be",
   "metadata": {},
   "outputs": [
    {
     "data": {
      "text/plain": [
       "3"
      ]
     },
     "execution_count": 167,
     "metadata": {},
     "output_type": "execute_result"
    }
   ],
   "source": [
    "l[2]"
   ]
  },
  {
   "cell_type": "code",
   "execution_count": 168,
   "id": "05f30348",
   "metadata": {},
   "outputs": [
    {
     "data": {
      "text/plain": [
       "True"
      ]
     },
     "execution_count": 168,
     "metadata": {},
     "output_type": "execute_result"
    }
   ],
   "source": [
    "l[-1]"
   ]
  },
  {
   "cell_type": "code",
   "execution_count": 169,
   "id": "144c1efa",
   "metadata": {},
   "outputs": [
    {
     "data": {
      "text/plain": [
       "8"
      ]
     },
     "execution_count": 169,
     "metadata": {},
     "output_type": "execute_result"
    }
   ],
   "source": [
    "len(l)"
   ]
  },
  {
   "cell_type": "code",
   "execution_count": 170,
   "id": "e2b6d414",
   "metadata": {},
   "outputs": [
    {
     "data": {
      "text/plain": [
       "[True, 213.13, 'Sandeep', 5, 4, 3, 2, 1]"
      ]
     },
     "execution_count": 170,
     "metadata": {},
     "output_type": "execute_result"
    }
   ],
   "source": [
    "l[::-1]"
   ]
  },
  {
   "cell_type": "code",
   "execution_count": 171,
   "id": "d3d024a2",
   "metadata": {},
   "outputs": [
    {
     "data": {
      "text/plain": [
       "[1,\n",
       " 2,\n",
       " 3,\n",
       " 4,\n",
       " 5,\n",
       " 'Sandeep',\n",
       " 213.13,\n",
       " True,\n",
       " 1,\n",
       " 2,\n",
       " 3,\n",
       " 4,\n",
       " 5,\n",
       " 'Sandeep',\n",
       " 213.13,\n",
       " True]"
      ]
     },
     "execution_count": 171,
     "metadata": {},
     "output_type": "execute_result"
    }
   ],
   "source": [
    "l+l"
   ]
  },
  {
   "cell_type": "code",
   "execution_count": 172,
   "id": "7b3a77a3",
   "metadata": {},
   "outputs": [
    {
     "data": {
      "text/plain": [
       "[1, 2, 3, 4, 5, 'Sandeep', 213.13, True]"
      ]
     },
     "execution_count": 172,
     "metadata": {},
     "output_type": "execute_result"
    }
   ],
   "source": [
    "l"
   ]
  },
  {
   "cell_type": "code",
   "execution_count": 175,
   "id": "9fc5d82e",
   "metadata": {},
   "outputs": [
    {
     "data": {
      "text/plain": [
       "['a', 1, 2, 3, 4, 5, 'Sandeep', 213.13, True]"
      ]
     },
     "execution_count": 175,
     "metadata": {},
     "output_type": "execute_result"
    }
   ],
   "source": [
    "[\"a\"]+l"
   ]
  },
  {
   "cell_type": "code",
   "execution_count": 176,
   "id": "7f31257a",
   "metadata": {},
   "outputs": [
    {
     "data": {
      "text/plain": [
       "[1, 2, 3, 4, 5, 'Sandeep', 213.13, True]"
      ]
     },
     "execution_count": 176,
     "metadata": {},
     "output_type": "execute_result"
    }
   ],
   "source": [
    "l"
   ]
  },
  {
   "cell_type": "code",
   "execution_count": 179,
   "id": "e524c144",
   "metadata": {},
   "outputs": [],
   "source": [
    "l=l+[\"a\"]"
   ]
  },
  {
   "cell_type": "code",
   "execution_count": 180,
   "id": "9ab4b92a",
   "metadata": {},
   "outputs": [
    {
     "data": {
      "text/plain": [
       "[1, 2, 3, 4, 5, 'Sandeep', 213.13, True, 'a']"
      ]
     },
     "execution_count": 180,
     "metadata": {},
     "output_type": "execute_result"
    }
   ],
   "source": [
    "l"
   ]
  },
  {
   "cell_type": "code",
   "execution_count": 181,
   "id": "7e1eb645",
   "metadata": {},
   "outputs": [
    {
     "data": {
      "text/plain": [
       "True"
      ]
     },
     "execution_count": 181,
     "metadata": {},
     "output_type": "execute_result"
    }
   ],
   "source": [
    "2 in l"
   ]
  },
  {
   "cell_type": "code",
   "execution_count": 182,
   "id": "51897b5c",
   "metadata": {},
   "outputs": [
    {
     "data": {
      "text/plain": [
       "False"
      ]
     },
     "execution_count": 182,
     "metadata": {},
     "output_type": "execute_result"
    }
   ],
   "source": [
    "a in l"
   ]
  },
  {
   "cell_type": "code",
   "execution_count": 183,
   "id": "091ad682",
   "metadata": {},
   "outputs": [
    {
     "data": {
      "text/plain": [
       "True"
      ]
     },
     "execution_count": 183,
     "metadata": {},
     "output_type": "execute_result"
    }
   ],
   "source": [
    "'a' in l"
   ]
  },
  {
   "cell_type": "code",
   "execution_count": 184,
   "id": "8d27e52c",
   "metadata": {},
   "outputs": [
    {
     "ename": "TypeError",
     "evalue": "'>' not supported between instances of 'str' and 'int'",
     "output_type": "error",
     "traceback": [
      "\u001b[1;31m---------------------------------------------------------------------------\u001b[0m",
      "\u001b[1;31mTypeError\u001b[0m                                 Traceback (most recent call last)",
      "Input \u001b[1;32mIn [184]\u001b[0m, in \u001b[0;36m<cell line: 1>\u001b[1;34m()\u001b[0m\n\u001b[1;32m----> 1\u001b[0m \u001b[38;5;28;43mmax\u001b[39;49m\u001b[43m(\u001b[49m\u001b[43ml\u001b[49m\u001b[43m)\u001b[49m\n",
      "\u001b[1;31mTypeError\u001b[0m: '>' not supported between instances of 'str' and 'int'"
     ]
    }
   ],
   "source": [
    "max(l)"
   ]
  },
  {
   "cell_type": "code",
   "execution_count": 186,
   "id": "18388c0d",
   "metadata": {},
   "outputs": [],
   "source": [
    "l2=[23,28,423,135135,15,1234,132,1235,1325,135]"
   ]
  },
  {
   "cell_type": "code",
   "execution_count": 187,
   "id": "1d676bc4",
   "metadata": {},
   "outputs": [
    {
     "data": {
      "text/plain": [
       "135135"
      ]
     },
     "execution_count": 187,
     "metadata": {},
     "output_type": "execute_result"
    }
   ],
   "source": [
    "max(l2)"
   ]
  },
  {
   "cell_type": "code",
   "execution_count": 192,
   "id": "c1c8e570",
   "metadata": {},
   "outputs": [],
   "source": [
    "S=[\"aaa\",\"AAA\",\"aAa\"]"
   ]
  },
  {
   "cell_type": "code",
   "execution_count": 193,
   "id": "2ef16a53",
   "metadata": {},
   "outputs": [
    {
     "data": {
      "text/plain": [
       "'aaa'"
      ]
     },
     "execution_count": 193,
     "metadata": {},
     "output_type": "execute_result"
    }
   ],
   "source": [
    "max(S)"
   ]
  },
  {
   "cell_type": "code",
   "execution_count": 195,
   "id": "ce7a76aa",
   "metadata": {},
   "outputs": [
    {
     "data": {
      "text/plain": [
       "'AAA'"
      ]
     },
     "execution_count": 195,
     "metadata": {},
     "output_type": "execute_result"
    }
   ],
   "source": [
    "min(S)"
   ]
  },
  {
   "cell_type": "code",
   "execution_count": 1,
   "id": "87147a7d",
   "metadata": {},
   "outputs": [],
   "source": [
    "l=[1,2,3,4,5,6]"
   ]
  },
  {
   "cell_type": "code",
   "execution_count": 2,
   "id": "28a7efc4",
   "metadata": {},
   "outputs": [],
   "source": [
    "l2=[7,8,9]"
   ]
  },
  {
   "cell_type": "code",
   "execution_count": 3,
   "id": "06fd5f13",
   "metadata": {},
   "outputs": [
    {
     "data": {
      "text/plain": [
       "[1, 2, 3, 4, 5, 6, 7, 8, 9]"
      ]
     },
     "execution_count": 3,
     "metadata": {},
     "output_type": "execute_result"
    }
   ],
   "source": [
    "l+l2"
   ]
  },
  {
   "cell_type": "code",
   "execution_count": 4,
   "id": "e147274d",
   "metadata": {},
   "outputs": [],
   "source": [
    "l.extend(l2)"
   ]
  },
  {
   "cell_type": "code",
   "execution_count": 5,
   "id": "eb41933e",
   "metadata": {},
   "outputs": [
    {
     "data": {
      "text/plain": [
       "[1, 2, 3, 4, 5, 6, 7, 8, 9]"
      ]
     },
     "execution_count": 5,
     "metadata": {},
     "output_type": "execute_result"
    }
   ],
   "source": [
    "l"
   ]
  },
  {
   "cell_type": "code",
   "execution_count": 6,
   "id": "e47ab477",
   "metadata": {},
   "outputs": [],
   "source": [
    "l.reverse()"
   ]
  },
  {
   "cell_type": "code",
   "execution_count": 7,
   "id": "b5982762",
   "metadata": {},
   "outputs": [
    {
     "data": {
      "text/plain": [
       "[9, 8, 7, 6, 5, 4, 3, 2, 1]"
      ]
     },
     "execution_count": 7,
     "metadata": {},
     "output_type": "execute_result"
    }
   ],
   "source": [
    "l"
   ]
  },
  {
   "cell_type": "code",
   "execution_count": 21,
   "id": "f085cb95",
   "metadata": {},
   "outputs": [],
   "source": [
    "l1=[1,2,3]\n",
    "l2=[3,4,5]\n",
    "l3=[6,7,8]"
   ]
  },
  {
   "cell_type": "code",
   "execution_count": 22,
   "id": "b378e33a",
   "metadata": {},
   "outputs": [],
   "source": [
    "l4=[l1,l2,l3]"
   ]
  },
  {
   "cell_type": "code",
   "execution_count": 23,
   "id": "193fcffe",
   "metadata": {},
   "outputs": [
    {
     "data": {
      "text/plain": [
       "[[1, 2, 3], [3, 4, 5], [6, 7, 8]]"
      ]
     },
     "execution_count": 23,
     "metadata": {},
     "output_type": "execute_result"
    }
   ],
   "source": [
    "l4"
   ]
  },
  {
   "cell_type": "code",
   "execution_count": 24,
   "id": "c60e0dd7",
   "metadata": {},
   "outputs": [
    {
     "data": {
      "text/plain": [
       "0"
      ]
     },
     "execution_count": 24,
     "metadata": {},
     "output_type": "execute_result"
    }
   ],
   "source": [
    "l4.count(3)"
   ]
  },
  {
   "cell_type": "code",
   "execution_count": 29,
   "id": "86e46899",
   "metadata": {},
   "outputs": [],
   "source": [
    "l5=[3,4,6,7,3,2,7,8,3,1,4,2,5]"
   ]
  },
  {
   "cell_type": "code",
   "execution_count": 30,
   "id": "76eec0b8",
   "metadata": {},
   "outputs": [
    {
     "data": {
      "text/plain": [
       "3"
      ]
     },
     "execution_count": 30,
     "metadata": {},
     "output_type": "execute_result"
    }
   ],
   "source": [
    "l5.count(3)"
   ]
  },
  {
   "cell_type": "code",
   "execution_count": 31,
   "id": "692736a8",
   "metadata": {},
   "outputs": [],
   "source": [
    "l5.insert(0,[11,45])"
   ]
  },
  {
   "cell_type": "code",
   "execution_count": 32,
   "id": "ee43b9aa",
   "metadata": {},
   "outputs": [
    {
     "data": {
      "text/plain": [
       "[[11, 45], 3, 4, 6, 7, 3, 2, 7, 8, 3, 1, 4, 2, 5]"
      ]
     },
     "execution_count": 32,
     "metadata": {},
     "output_type": "execute_result"
    }
   ],
   "source": [
    "l5"
   ]
  },
  {
   "cell_type": "code",
   "execution_count": 33,
   "id": "6417ebb8",
   "metadata": {},
   "outputs": [
    {
     "data": {
      "text/plain": [
       "5"
      ]
     },
     "execution_count": 33,
     "metadata": {},
     "output_type": "execute_result"
    }
   ],
   "source": [
    "l5.pop()"
   ]
  },
  {
   "cell_type": "code",
   "execution_count": 34,
   "id": "47bd888e",
   "metadata": {},
   "outputs": [
    {
     "data": {
      "text/plain": [
       "[[11, 45], 3, 4, 6, 7, 3, 2, 7, 8, 3, 1, 4, 2]"
      ]
     },
     "execution_count": 34,
     "metadata": {},
     "output_type": "execute_result"
    }
   ],
   "source": [
    "l5"
   ]
  },
  {
   "cell_type": "code",
   "execution_count": 36,
   "id": "a73a5c27",
   "metadata": {},
   "outputs": [
    {
     "data": {
      "text/plain": [
       "[11, 45]"
      ]
     },
     "execution_count": 36,
     "metadata": {},
     "output_type": "execute_result"
    }
   ],
   "source": [
    "l5.pop(0)"
   ]
  },
  {
   "cell_type": "code",
   "execution_count": 37,
   "id": "399a111e",
   "metadata": {},
   "outputs": [
    {
     "data": {
      "text/plain": [
       "[3, 4, 6, 7, 3, 2, 7, 8, 3, 1, 4, 2]"
      ]
     },
     "execution_count": 37,
     "metadata": {},
     "output_type": "execute_result"
    }
   ],
   "source": [
    "l5"
   ]
  },
  {
   "cell_type": "code",
   "execution_count": 38,
   "id": "f5efaf91",
   "metadata": {},
   "outputs": [],
   "source": [
    "l5.sort()"
   ]
  },
  {
   "cell_type": "code",
   "execution_count": 39,
   "id": "739284e3",
   "metadata": {},
   "outputs": [
    {
     "data": {
      "text/plain": [
       "[1, 2, 2, 3, 3, 3, 4, 4, 6, 7, 7, 8]"
      ]
     },
     "execution_count": 39,
     "metadata": {},
     "output_type": "execute_result"
    }
   ],
   "source": [
    "l5"
   ]
  },
  {
   "cell_type": "code",
   "execution_count": 40,
   "id": "9af81165",
   "metadata": {},
   "outputs": [
    {
     "ename": "ValueError",
     "evalue": "list.remove(x): x not in list",
     "output_type": "error",
     "traceback": [
      "\u001b[1;31m---------------------------------------------------------------------------\u001b[0m",
      "\u001b[1;31mValueError\u001b[0m                                Traceback (most recent call last)",
      "Input \u001b[1;32mIn [40]\u001b[0m, in \u001b[0;36m<cell line: 1>\u001b[1;34m()\u001b[0m\n\u001b[1;32m----> 1\u001b[0m \u001b[43ml5\u001b[49m\u001b[38;5;241;43m.\u001b[39;49m\u001b[43mremove\u001b[49m\u001b[43m(\u001b[49m\u001b[38;5;241;43m0\u001b[39;49m\u001b[43m)\u001b[49m\n",
      "\u001b[1;31mValueError\u001b[0m: list.remove(x): x not in list"
     ]
    }
   ],
   "source": [
    "l5.remove(0)"
   ]
  },
  {
   "cell_type": "code",
   "execution_count": 41,
   "id": "97709e2e",
   "metadata": {},
   "outputs": [],
   "source": [
    "l5.remove(2)"
   ]
  },
  {
   "cell_type": "code",
   "execution_count": 42,
   "id": "4702382b",
   "metadata": {},
   "outputs": [
    {
     "data": {
      "text/plain": [
       "[1, 2, 3, 3, 3, 4, 4, 6, 7, 7, 8]"
      ]
     },
     "execution_count": 42,
     "metadata": {},
     "output_type": "execute_result"
    }
   ],
   "source": [
    "l5"
   ]
  },
  {
   "cell_type": "code",
   "execution_count": 43,
   "id": "b13c3fc8",
   "metadata": {},
   "outputs": [],
   "source": [
    "# Tuple\n",
    "t=(2,4,52,5,7,\"Sandeep\",True,23.54)"
   ]
  },
  {
   "cell_type": "code",
   "execution_count": 44,
   "id": "500d42c9",
   "metadata": {},
   "outputs": [
    {
     "data": {
      "text/plain": [
       "(2, 4, 52, 5, 7, 'Sandeep', True, 23.54)"
      ]
     },
     "execution_count": 44,
     "metadata": {},
     "output_type": "execute_result"
    }
   ],
   "source": [
    "t"
   ]
  },
  {
   "cell_type": "code",
   "execution_count": 46,
   "id": "0a0f2163",
   "metadata": {},
   "outputs": [
    {
     "data": {
      "text/plain": [
       "5"
      ]
     },
     "execution_count": 46,
     "metadata": {},
     "output_type": "execute_result"
    }
   ],
   "source": [
    "t[3]"
   ]
  },
  {
   "cell_type": "code",
   "execution_count": 47,
   "id": "c0dcc16e",
   "metadata": {},
   "outputs": [
    {
     "data": {
      "text/plain": [
       "(2, 4, 52, 5, 7, 'Sandeep', True, 23.54)"
      ]
     },
     "execution_count": 47,
     "metadata": {},
     "output_type": "execute_result"
    }
   ],
   "source": [
    "t[0:]"
   ]
  },
  {
   "cell_type": "code",
   "execution_count": 48,
   "id": "55c0645c",
   "metadata": {},
   "outputs": [
    {
     "data": {
      "text/plain": [
       "(2, 4, 52, 5)"
      ]
     },
     "execution_count": 48,
     "metadata": {},
     "output_type": "execute_result"
    }
   ],
   "source": [
    "t[:4]"
   ]
  },
  {
   "cell_type": "code",
   "execution_count": 49,
   "id": "5203d14d",
   "metadata": {},
   "outputs": [
    {
     "ename": "TypeError",
     "evalue": "'tuple' object does not support item assignment",
     "output_type": "error",
     "traceback": [
      "\u001b[1;31m---------------------------------------------------------------------------\u001b[0m",
      "\u001b[1;31mTypeError\u001b[0m                                 Traceback (most recent call last)",
      "Input \u001b[1;32mIn [49]\u001b[0m, in \u001b[0;36m<cell line: 1>\u001b[1;34m()\u001b[0m\n\u001b[1;32m----> 1\u001b[0m t[\u001b[38;5;241m2\u001b[39m]\u001b[38;5;241m=\u001b[39m\u001b[38;5;124m\"\u001b[39m\u001b[38;5;124msdfmsf\u001b[39m\u001b[38;5;124m\"\u001b[39m\n",
      "\u001b[1;31mTypeError\u001b[0m: 'tuple' object does not support item assignment"
     ]
    }
   ],
   "source": [
    "t[2]=\"sdfmsf\""
   ]
  },
  {
   "cell_type": "code",
   "execution_count": 50,
   "id": "beacce1c",
   "metadata": {},
   "outputs": [],
   "source": [
    "t2=(234,523,2,5,62,621)"
   ]
  },
  {
   "cell_type": "code",
   "execution_count": 52,
   "id": "e2305665",
   "metadata": {},
   "outputs": [],
   "source": [
    "t3=t+t2"
   ]
  },
  {
   "cell_type": "code",
   "execution_count": 53,
   "id": "ba37f25c",
   "metadata": {},
   "outputs": [
    {
     "data": {
      "text/plain": [
       "(2, 4, 52, 5, 7, 'Sandeep', True, 23.54, 234, 523, 2, 5, 62, 621)"
      ]
     },
     "execution_count": 53,
     "metadata": {},
     "output_type": "execute_result"
    }
   ],
   "source": [
    "t3"
   ]
  },
  {
   "cell_type": "code",
   "execution_count": 54,
   "id": "1cb75668",
   "metadata": {},
   "outputs": [
    {
     "data": {
      "text/plain": [
       "2"
      ]
     },
     "execution_count": 54,
     "metadata": {},
     "output_type": "execute_result"
    }
   ],
   "source": [
    "t3.count(2)"
   ]
  },
  {
   "cell_type": "code",
   "execution_count": 57,
   "id": "d8554bf6",
   "metadata": {},
   "outputs": [
    {
     "data": {
      "text/plain": [
       "8"
      ]
     },
     "execution_count": 57,
     "metadata": {},
     "output_type": "execute_result"
    }
   ],
   "source": [
    "t3.index(234)"
   ]
  },
  {
   "cell_type": "code",
   "execution_count": 58,
   "id": "5d0df4ce",
   "metadata": {},
   "outputs": [],
   "source": [
    "l=[1,2,3,5,6,7,8,9,9,4,3,2,1,21,4,56,7,8,8]"
   ]
  },
  {
   "cell_type": "code",
   "execution_count": 59,
   "id": "08b7e6b7",
   "metadata": {},
   "outputs": [],
   "source": [
    "t=tuple(l)"
   ]
  },
  {
   "cell_type": "code",
   "execution_count": 60,
   "id": "f1cdf20e",
   "metadata": {},
   "outputs": [
    {
     "data": {
      "text/plain": [
       "(1, 2, 3, 5, 6, 7, 8, 9, 9, 4, 3, 2, 1, 21, 4, 56, 7, 8, 8)"
      ]
     },
     "execution_count": 60,
     "metadata": {},
     "output_type": "execute_result"
    }
   ],
   "source": [
    "t"
   ]
  },
  {
   "cell_type": "code",
   "execution_count": 62,
   "id": "78c7dd70",
   "metadata": {},
   "outputs": [],
   "source": [
    "l2=list(t)"
   ]
  },
  {
   "cell_type": "code",
   "execution_count": 63,
   "id": "126cda10",
   "metadata": {},
   "outputs": [
    {
     "data": {
      "text/plain": [
       "[1, 2, 3, 5, 6, 7, 8, 9, 9, 4, 3, 2, 1, 21, 4, 56, 7, 8, 8]"
      ]
     },
     "execution_count": 63,
     "metadata": {},
     "output_type": "execute_result"
    }
   ],
   "source": [
    "l2"
   ]
  },
  {
   "cell_type": "code",
   "execution_count": 64,
   "id": "f551bcd8",
   "metadata": {},
   "outputs": [
    {
     "data": {
      "text/plain": [
       "'(1, 2, 3, 5, 6, 7, 8, 9, 9, 4, 3, 2, 1, 21, 4, 56, 7, 8, 8)'"
      ]
     },
     "execution_count": 64,
     "metadata": {},
     "output_type": "execute_result"
    }
   ],
   "source": [
    "str(t)"
   ]
  },
  {
   "cell_type": "code",
   "execution_count": 65,
   "id": "26627870",
   "metadata": {},
   "outputs": [
    {
     "data": {
      "text/plain": [
       "6"
      ]
     },
     "execution_count": 65,
     "metadata": {},
     "output_type": "execute_result"
    }
   ],
   "source": [
    "t[4]"
   ]
  },
  {
   "cell_type": "code",
   "execution_count": 66,
   "id": "cde80c83",
   "metadata": {},
   "outputs": [],
   "source": [
    "#Dictionary\n",
    "\n",
    "d={}"
   ]
  },
  {
   "cell_type": "code",
   "execution_count": 67,
   "id": "86afedc1",
   "metadata": {},
   "outputs": [
    {
     "data": {
      "text/plain": [
       "dict"
      ]
     },
     "execution_count": 67,
     "metadata": {},
     "output_type": "execute_result"
    }
   ],
   "source": [
    "type(d)"
   ]
  },
  {
   "cell_type": "code",
   "execution_count": 68,
   "id": "013e58aa",
   "metadata": {},
   "outputs": [],
   "source": [
    "d={3}"
   ]
  },
  {
   "cell_type": "code",
   "execution_count": 69,
   "id": "0035a582",
   "metadata": {},
   "outputs": [
    {
     "data": {
      "text/plain": [
       "{3}"
      ]
     },
     "execution_count": 69,
     "metadata": {},
     "output_type": "execute_result"
    }
   ],
   "source": [
    "d"
   ]
  },
  {
   "cell_type": "code",
   "execution_count": 70,
   "id": "416dbc3a",
   "metadata": {},
   "outputs": [
    {
     "data": {
      "text/plain": [
       "set"
      ]
     },
     "execution_count": 70,
     "metadata": {},
     "output_type": "execute_result"
    }
   ],
   "source": [
    "type(d)"
   ]
  },
  {
   "cell_type": "code",
   "execution_count": 71,
   "id": "2360ed5d",
   "metadata": {},
   "outputs": [],
   "source": [
    "d={1:3}"
   ]
  },
  {
   "cell_type": "code",
   "execution_count": 72,
   "id": "6077a312",
   "metadata": {},
   "outputs": [
    {
     "data": {
      "text/plain": [
       "{1: 3}"
      ]
     },
     "execution_count": 72,
     "metadata": {},
     "output_type": "execute_result"
    }
   ],
   "source": [
    "d"
   ]
  },
  {
   "cell_type": "code",
   "execution_count": 73,
   "id": "4934f4a6",
   "metadata": {},
   "outputs": [
    {
     "data": {
      "text/plain": [
       "dict"
      ]
     },
     "execution_count": 73,
     "metadata": {},
     "output_type": "execute_result"
    }
   ],
   "source": [
    "type(d)"
   ]
  },
  {
   "cell_type": "code",
   "execution_count": 74,
   "id": "5ff21849",
   "metadata": {},
   "outputs": [],
   "source": [
    "d={1:2}"
   ]
  },
  {
   "cell_type": "code",
   "execution_count": 75,
   "id": "624ad6a6",
   "metadata": {},
   "outputs": [
    {
     "data": {
      "text/plain": [
       "{1: 2}"
      ]
     },
     "execution_count": 75,
     "metadata": {},
     "output_type": "execute_result"
    }
   ],
   "source": [
    "d"
   ]
  },
  {
   "cell_type": "code",
   "execution_count": 80,
   "id": "e1e3c40d",
   "metadata": {},
   "outputs": [],
   "source": [
    "d={1:5,'1':5}"
   ]
  },
  {
   "cell_type": "code",
   "execution_count": 81,
   "id": "7bf11191",
   "metadata": {},
   "outputs": [
    {
     "data": {
      "text/plain": [
       "{1: 5, '1': 5}"
      ]
     },
     "execution_count": 81,
     "metadata": {},
     "output_type": "execute_result"
    }
   ],
   "source": [
    "d"
   ]
  },
  {
   "cell_type": "code",
   "execution_count": 82,
   "id": "26c3af29",
   "metadata": {},
   "outputs": [
    {
     "data": {
      "text/plain": [
       "dict_keys([1, '1'])"
      ]
     },
     "execution_count": 82,
     "metadata": {},
     "output_type": "execute_result"
    }
   ],
   "source": [
    "d.keys()"
   ]
  },
  {
   "cell_type": "code",
   "execution_count": 83,
   "id": "8a13fde0",
   "metadata": {},
   "outputs": [],
   "source": [
    "d1={\"Name\":\"Sandeep\",\"Age\":20}"
   ]
  },
  {
   "cell_type": "code",
   "execution_count": 84,
   "id": "fe5cb32c",
   "metadata": {},
   "outputs": [
    {
     "data": {
      "text/plain": [
       "dict_items([('Name', 'Sandeep'), ('Age', 20)])"
      ]
     },
     "execution_count": 84,
     "metadata": {},
     "output_type": "execute_result"
    }
   ],
   "source": [
    "d1.items()"
   ]
  },
  {
   "cell_type": "code",
   "execution_count": 85,
   "id": "f115f6a5",
   "metadata": {},
   "outputs": [],
   "source": [
    "d2={\"Names\":{1:\"Sandeep\",2:\"Pintu\"}}"
   ]
  },
  {
   "cell_type": "code",
   "execution_count": 86,
   "id": "d2b8a05b",
   "metadata": {},
   "outputs": [
    {
     "data": {
      "text/plain": [
       "{'Names': {1: 'Sandeep', 2: 'Pintu'}}"
      ]
     },
     "execution_count": 86,
     "metadata": {},
     "output_type": "execute_result"
    }
   ],
   "source": [
    "d2"
   ]
  },
  {
   "cell_type": "code",
   "execution_count": 88,
   "id": "a9bd38cf",
   "metadata": {},
   "outputs": [
    {
     "data": {
      "text/plain": [
       "{1: 'Sandeep', 2: 'Pintu'}"
      ]
     },
     "execution_count": 88,
     "metadata": {},
     "output_type": "execute_result"
    }
   ],
   "source": [
    "d2[\"Names\"]"
   ]
  },
  {
   "cell_type": "code",
   "execution_count": 89,
   "id": "04134b5c",
   "metadata": {},
   "outputs": [
    {
     "data": {
      "text/plain": [
       "'Sandeep'"
      ]
     },
     "execution_count": 89,
     "metadata": {},
     "output_type": "execute_result"
    }
   ],
   "source": [
    "d2[\"Names\"][1]"
   ]
  },
  {
   "cell_type": "code",
   "execution_count": 91,
   "id": "1482a86f",
   "metadata": {},
   "outputs": [
    {
     "data": {
      "text/plain": [
       "True"
      ]
     },
     "execution_count": 91,
     "metadata": {},
     "output_type": "execute_result"
    }
   ],
   "source": [
    "\"Names\" in d2"
   ]
  },
  {
   "cell_type": "code",
   "execution_count": 95,
   "id": "be402b11",
   "metadata": {},
   "outputs": [
    {
     "data": {
      "text/plain": [
       "False"
      ]
     },
     "execution_count": 95,
     "metadata": {},
     "output_type": "execute_result"
    }
   ],
   "source": [
    "2 in d2.keys() #???"
   ]
  },
  {
   "cell_type": "code",
   "execution_count": 96,
   "id": "dc8c294d",
   "metadata": {},
   "outputs": [],
   "source": [
    "d2[1]=\"xyz\""
   ]
  },
  {
   "cell_type": "code",
   "execution_count": 97,
   "id": "ad47fe21",
   "metadata": {},
   "outputs": [
    {
     "data": {
      "text/plain": [
       "{'Names': {1: 'Sandeep', 2: 'Pintu'}, 1: 'xyz'}"
      ]
     },
     "execution_count": 97,
     "metadata": {},
     "output_type": "execute_result"
    }
   ],
   "source": [
    "d2"
   ]
  },
  {
   "cell_type": "code",
   "execution_count": 98,
   "id": "49f78f3f",
   "metadata": {},
   "outputs": [
    {
     "ename": "TypeError",
     "evalue": "unsupported operand type(s) for +: 'dict' and 'dict'",
     "output_type": "error",
     "traceback": [
      "\u001b[1;31m---------------------------------------------------------------------------\u001b[0m",
      "\u001b[1;31mTypeError\u001b[0m                                 Traceback (most recent call last)",
      "Input \u001b[1;32mIn [98]\u001b[0m, in \u001b[0;36m<cell line: 1>\u001b[1;34m()\u001b[0m\n\u001b[1;32m----> 1\u001b[0m \u001b[43md\u001b[49m\u001b[38;5;241;43m+\u001b[39;49m\u001b[43md2\u001b[49m\n",
      "\u001b[1;31mTypeError\u001b[0m: unsupported operand type(s) for +: 'dict' and 'dict'"
     ]
    }
   ],
   "source": [
    "d+d2"
   ]
  },
  {
   "cell_type": "code",
   "execution_count": 99,
   "id": "7dd5e2f3",
   "metadata": {},
   "outputs": [
    {
     "data": {
      "text/plain": [
       "dict_keys(['Names', 1])"
      ]
     },
     "execution_count": 99,
     "metadata": {},
     "output_type": "execute_result"
    }
   ],
   "source": [
    "d2.keys()"
   ]
  },
  {
   "cell_type": "code",
   "execution_count": 100,
   "id": "d75a1548",
   "metadata": {},
   "outputs": [
    {
     "data": {
      "text/plain": [
       "dict_values([{1: 'Sandeep', 2: 'Pintu'}, 'xyz'])"
      ]
     },
     "execution_count": 100,
     "metadata": {},
     "output_type": "execute_result"
    }
   ],
   "source": [
    "d2.values()"
   ]
  },
  {
   "cell_type": "code",
   "execution_count": 101,
   "id": "4b65ca33",
   "metadata": {},
   "outputs": [
    {
     "data": {
      "text/plain": [
       "dict_items([('Names', {1: 'Sandeep', 2: 'Pintu'}), (1, 'xyz')])"
      ]
     },
     "execution_count": 101,
     "metadata": {},
     "output_type": "execute_result"
    }
   ],
   "source": [
    "d2.items()"
   ]
  },
  {
   "cell_type": "code",
   "execution_count": 112,
   "id": "e61f5522",
   "metadata": {},
   "outputs": [],
   "source": [
    "# Set\n",
    "s={1,2,4,6,7,8,9,3,0,12,14,1}"
   ]
  },
  {
   "cell_type": "code",
   "execution_count": 103,
   "id": "b8d52ad5",
   "metadata": {},
   "outputs": [
    {
     "data": {
      "text/plain": [
       "{1, 2, 3, 4, 6, 7, 8, 9}"
      ]
     },
     "execution_count": 103,
     "metadata": {},
     "output_type": "execute_result"
    }
   ],
   "source": [
    "s"
   ]
  },
  {
   "cell_type": "code",
   "execution_count": 106,
   "id": "a50c6feb",
   "metadata": {},
   "outputs": [],
   "source": [
    "s1=s.copy()"
   ]
  },
  {
   "cell_type": "code",
   "execution_count": 107,
   "id": "4719f874",
   "metadata": {},
   "outputs": [
    {
     "data": {
      "text/plain": [
       "{1, 2, 3, 4, 6, 7, 8, 9}"
      ]
     },
     "execution_count": 107,
     "metadata": {},
     "output_type": "execute_result"
    }
   ],
   "source": [
    "s1"
   ]
  },
  {
   "cell_type": "code",
   "execution_count": 113,
   "id": "2aaf1ef7",
   "metadata": {},
   "outputs": [
    {
     "data": {
      "text/plain": [
       "{0, 12, 14}"
      ]
     },
     "execution_count": 113,
     "metadata": {},
     "output_type": "execute_result"
    }
   ],
   "source": [
    "s.difference(s1)"
   ]
  },
  {
   "cell_type": "code",
   "execution_count": 114,
   "id": "f24c6cb2",
   "metadata": {},
   "outputs": [
    {
     "data": {
      "text/plain": [
       "{0, 1, 2, 3, 4, 6, 7, 8, 9, 12, 14}"
      ]
     },
     "execution_count": 114,
     "metadata": {},
     "output_type": "execute_result"
    }
   ],
   "source": [
    "s"
   ]
  },
  {
   "cell_type": "code",
   "execution_count": 115,
   "id": "c35c4b64",
   "metadata": {},
   "outputs": [
    {
     "data": {
      "text/plain": [
       "{0, 1, 2, 3, 4, 6, 7, 8, 9, 12, 14}"
      ]
     },
     "execution_count": 115,
     "metadata": {},
     "output_type": "execute_result"
    }
   ],
   "source": [
    "s.union(s1)"
   ]
  },
  {
   "cell_type": "code",
   "execution_count": 116,
   "id": "a226ae04",
   "metadata": {},
   "outputs": [
    {
     "data": {
      "text/plain": [
       "{1, 2, 3, 4, 6, 7, 8, 9}"
      ]
     },
     "execution_count": 116,
     "metadata": {},
     "output_type": "execute_result"
    }
   ],
   "source": [
    "s.intersection(s1)"
   ]
  },
  {
   "cell_type": "code",
   "execution_count": 117,
   "id": "83a74209",
   "metadata": {},
   "outputs": [
    {
     "data": {
      "text/plain": [
       "False"
      ]
     },
     "execution_count": 117,
     "metadata": {},
     "output_type": "execute_result"
    }
   ],
   "source": [
    "s.issubset(s1)"
   ]
  },
  {
   "cell_type": "code",
   "execution_count": 118,
   "id": "d8901d6b",
   "metadata": {},
   "outputs": [
    {
     "data": {
      "text/plain": [
       "True"
      ]
     },
     "execution_count": 118,
     "metadata": {},
     "output_type": "execute_result"
    }
   ],
   "source": [
    "s1.issubset(s)"
   ]
  },
  {
   "cell_type": "code",
   "execution_count": 119,
   "id": "c911fde5",
   "metadata": {},
   "outputs": [
    {
     "data": {
      "text/plain": [
       "False"
      ]
     },
     "execution_count": 119,
     "metadata": {},
     "output_type": "execute_result"
    }
   ],
   "source": [
    "s1.issuperset(s)"
   ]
  },
  {
   "cell_type": "code",
   "execution_count": 120,
   "id": "c8ebf56f",
   "metadata": {},
   "outputs": [
    {
     "data": {
      "text/plain": [
       "True"
      ]
     },
     "execution_count": 120,
     "metadata": {},
     "output_type": "execute_result"
    }
   ],
   "source": [
    "s.issuperset(s1)"
   ]
  },
  {
   "cell_type": "code",
   "execution_count": 123,
   "id": "c77eb3b9",
   "metadata": {},
   "outputs": [
    {
     "ename": "TypeError",
     "evalue": "'set' object is not subscriptable",
     "output_type": "error",
     "traceback": [
      "\u001b[1;31m---------------------------------------------------------------------------\u001b[0m",
      "\u001b[1;31mTypeError\u001b[0m                                 Traceback (most recent call last)",
      "Input \u001b[1;32mIn [123]\u001b[0m, in \u001b[0;36m<cell line: 1>\u001b[1;34m()\u001b[0m\n\u001b[1;32m----> 1\u001b[0m \u001b[43ms\u001b[49m\u001b[43m[\u001b[49m\u001b[38;5;241;43m2\u001b[39;49m\u001b[43m]\u001b[49m\n",
      "\u001b[1;31mTypeError\u001b[0m: 'set' object is not subscriptable"
     ]
    }
   ],
   "source": [
    "s[2]"
   ]
  },
  {
   "cell_type": "code",
   "execution_count": 124,
   "id": "c4ffc5f7",
   "metadata": {},
   "outputs": [
    {
     "data": {
      "text/plain": [
       "[0, 1, 2, 3, 4, 6, 7, 8, 9, 12, 14]"
      ]
     },
     "execution_count": 124,
     "metadata": {},
     "output_type": "execute_result"
    }
   ],
   "source": [
    "list(s)"
   ]
  },
  {
   "cell_type": "code",
   "execution_count": 125,
   "id": "44e90f00",
   "metadata": {},
   "outputs": [
    {
     "data": {
      "text/plain": [
       "{0, 1, 2, 3, 4, 6, 7, 8, 9, 12, 14}"
      ]
     },
     "execution_count": 125,
     "metadata": {},
     "output_type": "execute_result"
    }
   ],
   "source": [
    "s"
   ]
  },
  {
   "cell_type": "code",
   "execution_count": 126,
   "id": "a8b8fc72",
   "metadata": {},
   "outputs": [
    {
     "data": {
      "text/plain": [
       "(0, 1, 2, 3, 4, 6, 7, 8, 9, 12, 14)"
      ]
     },
     "execution_count": 126,
     "metadata": {},
     "output_type": "execute_result"
    }
   ],
   "source": [
    "tuple(s)"
   ]
  },
  {
   "cell_type": "code",
   "execution_count": 138,
   "id": "e9b82fe8",
   "metadata": {},
   "outputs": [],
   "source": [
    "s={1,2,4,5,5,5,5,5,2,2,2,2,4,4,1,5,15,15,15,15,54,15,}"
   ]
  },
  {
   "cell_type": "code",
   "execution_count": 139,
   "id": "ec679d77",
   "metadata": {},
   "outputs": [
    {
     "data": {
      "text/plain": [
       "{1, 2, 4, 5, 15, 54}"
      ]
     },
     "execution_count": 139,
     "metadata": {},
     "output_type": "execute_result"
    }
   ],
   "source": [
    "s"
   ]
  },
  {
   "cell_type": "code",
   "execution_count": 140,
   "id": "b54bc8c1",
   "metadata": {},
   "outputs": [],
   "source": [
    "s.add(100)"
   ]
  },
  {
   "cell_type": "code",
   "execution_count": 141,
   "id": "01e484c6",
   "metadata": {},
   "outputs": [
    {
     "data": {
      "text/plain": [
       "{1, 2, 4, 5, 15, 54, 100}"
      ]
     },
     "execution_count": 141,
     "metadata": {},
     "output_type": "execute_result"
    }
   ],
   "source": [
    "s"
   ]
  },
  {
   "cell_type": "code",
   "execution_count": 132,
   "id": "7861a967",
   "metadata": {},
   "outputs": [
    {
     "ename": "TypeError",
     "evalue": "unhashable type: 'list'",
     "output_type": "error",
     "traceback": [
      "\u001b[1;31m---------------------------------------------------------------------------\u001b[0m",
      "\u001b[1;31mTypeError\u001b[0m                                 Traceback (most recent call last)",
      "Input \u001b[1;32mIn [132]\u001b[0m, in \u001b[0;36m<cell line: 1>\u001b[1;34m()\u001b[0m\n\u001b[1;32m----> 1\u001b[0m \u001b[43ms\u001b[49m\u001b[38;5;241;43m.\u001b[39;49m\u001b[43madd\u001b[49m\u001b[43m(\u001b[49m\u001b[43m[\u001b[49m\u001b[38;5;241;43m1\u001b[39;49m\u001b[43m,\u001b[49m\u001b[38;5;241;43m2\u001b[39;49m\u001b[43m,\u001b[49m\u001b[38;5;241;43m3\u001b[39;49m\u001b[43m,\u001b[49m\u001b[38;5;241;43m5\u001b[39;49m\u001b[43m]\u001b[49m\u001b[43m)\u001b[49m\n",
      "\u001b[1;31mTypeError\u001b[0m: unhashable type: 'list'"
     ]
    }
   ],
   "source": [
    "s.add([1,2,3,5])"
   ]
  },
  {
   "cell_type": "code",
   "execution_count": 144,
   "id": "3a889c4d",
   "metadata": {},
   "outputs": [],
   "source": [
    "s1={(1,2,34,4),1,2,34,4}"
   ]
  },
  {
   "cell_type": "code",
   "execution_count": 145,
   "id": "8f0a8976",
   "metadata": {},
   "outputs": [
    {
     "ename": "KeyError",
     "evalue": "34",
     "output_type": "error",
     "traceback": [
      "\u001b[1;31m---------------------------------------------------------------------------\u001b[0m",
      "\u001b[1;31mKeyError\u001b[0m                                  Traceback (most recent call last)",
      "Input \u001b[1;32mIn [145]\u001b[0m, in \u001b[0;36m<cell line: 1>\u001b[1;34m()\u001b[0m\n\u001b[1;32m----> 1\u001b[0m \u001b[43ms\u001b[49m\u001b[38;5;241;43m.\u001b[39;49m\u001b[43mremove\u001b[49m\u001b[43m(\u001b[49m\u001b[38;5;241;43m34\u001b[39;49m\u001b[43m)\u001b[49m\n",
      "\u001b[1;31mKeyError\u001b[0m: 34"
     ]
    }
   ],
   "source": [
    "s.remove(34)"
   ]
  },
  {
   "cell_type": "code",
   "execution_count": 149,
   "id": "5e07655f",
   "metadata": {},
   "outputs": [
    {
     "ename": "TypeError",
     "evalue": "set.discard() takes exactly one argument (2 given)",
     "output_type": "error",
     "traceback": [
      "\u001b[1;31m---------------------------------------------------------------------------\u001b[0m",
      "\u001b[1;31mTypeError\u001b[0m                                 Traceback (most recent call last)",
      "Input \u001b[1;32mIn [149]\u001b[0m, in \u001b[0;36m<cell line: 1>\u001b[1;34m()\u001b[0m\n\u001b[1;32m----> 1\u001b[0m \u001b[43ms1\u001b[49m\u001b[38;5;241;43m.\u001b[39;49m\u001b[43mdiscard\u001b[49m\u001b[43m(\u001b[49m\u001b[38;5;241;43m0\u001b[39;49m\u001b[43m,\u001b[49m\u001b[38;5;241;43m34\u001b[39;49m\u001b[43m)\u001b[49m\n",
      "\u001b[1;31mTypeError\u001b[0m: set.discard() takes exactly one argument (2 given)"
     ]
    }
   ],
   "source": [
    "s1.discard(34)"
   ]
  },
  {
   "cell_type": "code",
   "execution_count": 148,
   "id": "088ced7a",
   "metadata": {},
   "outputs": [
    {
     "data": {
      "text/plain": [
       "{(1, 2, 34, 4), 1, 2, 4}"
      ]
     },
     "execution_count": 148,
     "metadata": {},
     "output_type": "execute_result"
    }
   ],
   "source": [
    "s1"
   ]
  },
  {
   "cell_type": "code",
   "execution_count": 151,
   "id": "d27ef795",
   "metadata": {},
   "outputs": [
    {
     "name": "stdout",
     "output_type": "stream",
     "text": [
      "{'Name': 'Rupe', 'Contact_info': 12345, 'loc': 'Category', 'Check': {...}}\n"
     ]
    }
   ],
   "source": [
    "# Question\n",
    "d={\"Name\":\"Sandeep\",\"Contact_info\":12345,\"Name\":\"Rupe\"}\n",
    "d['loc']=\"Category\"\n",
    "d['Check']=d\n",
    "\n",
    "print(d['Check'])"
   ]
  },
  {
   "cell_type": "code",
   "execution_count": 152,
   "id": "433f14fd",
   "metadata": {},
   "outputs": [
    {
     "name": "stdout",
     "output_type": "stream",
     "text": [
      "dict_keys(['Name', 'Contact_info', 'loc', 'Check'])\n"
     ]
    }
   ],
   "source": [
    "print(d.keys())"
   ]
  },
  {
   "cell_type": "code",
   "execution_count": 153,
   "id": "29ba8f7f",
   "metadata": {},
   "outputs": [
    {
     "name": "stdout",
     "output_type": "stream",
     "text": [
      "dict_items([('Name', 'Rupe'), ('Contact_info', 12345), ('loc', 'Category'), ('Check', {'Name': 'Rupe', 'Contact_info': 12345, 'loc': 'Category', 'Check': {...}})])\n"
     ]
    }
   ],
   "source": [
    "print(d.items())"
   ]
  },
  {
   "cell_type": "code",
   "execution_count": 154,
   "id": "24d5b6d6",
   "metadata": {},
   "outputs": [
    {
     "name": "stdout",
     "output_type": "stream",
     "text": [
      "<class 'dict_keys'>\n"
     ]
    }
   ],
   "source": [
    "print(type(d.keys()))"
   ]
  },
  {
   "cell_type": "code",
   "execution_count": 158,
   "id": "d398bb0d",
   "metadata": {},
   "outputs": [
    {
     "name": "stdout",
     "output_type": "stream",
     "text": [
      "<class 'dict_items'>\n"
     ]
    }
   ],
   "source": [
    "print(type(d.items()))"
   ]
  },
  {
   "cell_type": "code",
   "execution_count": 159,
   "id": "cb4b9094",
   "metadata": {},
   "outputs": [],
   "source": [
    "n=[4,5,7,9,2,3,4,5,2,1,9,6,7,8,]"
   ]
  },
  {
   "cell_type": "code",
   "execution_count": 160,
   "id": "418cde41",
   "metadata": {},
   "outputs": [
    {
     "data": {
      "text/plain": [
       "8"
      ]
     },
     "execution_count": 160,
     "metadata": {},
     "output_type": "execute_result"
    }
   ],
   "source": [
    "n.pop()"
   ]
  },
  {
   "cell_type": "code",
   "execution_count": 161,
   "id": "eac88efa",
   "metadata": {},
   "outputs": [],
   "source": [
    "n.sort()"
   ]
  },
  {
   "cell_type": "code",
   "execution_count": 162,
   "id": "abc6d665",
   "metadata": {},
   "outputs": [
    {
     "data": {
      "text/plain": [
       "[1, 2, 2, 3, 4, 4, 5, 5, 6, 7, 7, 9, 9]"
      ]
     },
     "execution_count": 162,
     "metadata": {},
     "output_type": "execute_result"
    }
   ],
   "source": [
    "n"
   ]
  },
  {
   "cell_type": "code",
   "execution_count": 4,
   "id": "304c6262",
   "metadata": {},
   "outputs": [
    {
     "data": {
      "text/plain": [
       "[{'key1': 'python', 234: [23, 45, 656]},\n",
       " [345, 56, 87, 8, 98, 9],\n",
       " (234, 6657, 6),\n",
       " [23, 456, 67, 8, 78, 78],\n",
       " 7,\n",
       " 6,\n",
       " 5,\n",
       " 4,\n",
       " 3]"
      ]
     },
     "execution_count": 4,
     "metadata": {},
     "output_type": "execute_result"
    }
   ],
   "source": [
    "# Question\n",
    "l=[3,4,5,6,7,[23,456,67,8,78,78],(234,6657,6),[345,56,87,8,98,9],{'key1':\"python\",234:[23,45,656]}]\n",
    "\n",
    "#1.Try to reverse the list\n",
    "#l.reverse()\n",
    "l[::-1]"
   ]
  },
  {
   "cell_type": "code",
   "execution_count": 31,
   "id": "a260128c",
   "metadata": {},
   "outputs": [
    {
     "data": {
      "text/plain": [
       "dict_keys(['key1', 234])"
      ]
     },
     "execution_count": 31,
     "metadata": {},
     "output_type": "execute_result"
    }
   ],
   "source": [
    "#2. Try to access 234 out of the list l\n",
    "#l[6][0]\n",
    "l1=l[8].keys()\n",
    "l1"
   ]
  },
  {
   "cell_type": "code",
   "execution_count": 20,
   "id": "fd289f83",
   "metadata": {},
   "outputs": [
    {
     "data": {
      "text/plain": [
       "456"
      ]
     },
     "execution_count": 20,
     "metadata": {},
     "output_type": "execute_result"
    }
   ],
   "source": [
    "#3. try to access 456\n",
    "l[5][1]"
   ]
  },
  {
   "cell_type": "code",
   "execution_count": 21,
   "id": "4308d50b",
   "metadata": {},
   "outputs": [
    {
     "data": {
      "text/plain": [
       "[23, 456, 67, 8, 78, 78]"
      ]
     },
     "execution_count": 21,
     "metadata": {},
     "output_type": "execute_result"
    }
   ],
   "source": [
    "#4. Try to extract only a list collection from list 1\n",
    "l[5]"
   ]
  },
  {
   "cell_type": "code",
   "execution_count": 24,
   "id": "3d7cb06b",
   "metadata": {},
   "outputs": [
    {
     "data": {
      "text/plain": [
       "'python'"
      ]
     },
     "execution_count": 24,
     "metadata": {},
     "output_type": "execute_result"
    }
   ],
   "source": [
    "#5. Try to extract \"python\"\n",
    "l[8]['key1']"
   ]
  },
  {
   "cell_type": "code",
   "execution_count": 27,
   "id": "24bc92e6",
   "metadata": {},
   "outputs": [],
   "source": [
    "#6. Try to list all the key in dict element available in the list\n",
    "l1=l[8].keys()"
   ]
  },
  {
   "cell_type": "code",
   "execution_count": 28,
   "id": "3f986434",
   "metadata": {},
   "outputs": [
    {
     "data": {
      "text/plain": [
       "dict_keys(['key1', 234])"
      ]
     },
     "execution_count": 28,
     "metadata": {},
     "output_type": "execute_result"
    }
   ],
   "source": [
    "l1"
   ]
  },
  {
   "cell_type": "markdown",
   "id": "eb454adf",
   "metadata": {},
   "source": [
    ">### Conditional Statements "
   ]
  },
  {
   "cell_type": "code",
   "execution_count": 34,
   "id": "40acebef",
   "metadata": {},
   "outputs": [
    {
     "name": "stdout",
     "output_type": "stream",
     "text": [
      "The value is 10\n",
      "First condition\n"
     ]
    }
   ],
   "source": [
    "a=10\n",
    "if a==10:\n",
    "    print(\"The value is\",a)\n",
    "    print(\"First condition\")"
   ]
  },
  {
   "cell_type": "code",
   "execution_count": 35,
   "id": "3bc095f7",
   "metadata": {},
   "outputs": [],
   "source": [
    "a=10\n",
    "if a>5:\n",
    "    pass"
   ]
  },
  {
   "cell_type": "code",
   "execution_count": 37,
   "id": "a727e4a8",
   "metadata": {},
   "outputs": [],
   "source": [
    "a=20\n",
    "if a<10:\n",
    "    print(\"This if condition is True\")"
   ]
  },
  {
   "cell_type": "code",
   "execution_count": 38,
   "id": "f5b5fea2",
   "metadata": {},
   "outputs": [
    {
     "name": "stdout",
     "output_type": "stream",
     "text": [
      "The value of a is 10\n"
     ]
    }
   ],
   "source": [
    "a=10\n",
    "if a==11:\n",
    "    print(\"My condition is False\")\n",
    "else:\n",
    "    print(\"The value of a is\",a)"
   ]
  },
  {
   "cell_type": "code",
   "execution_count": 41,
   "id": "480d8830",
   "metadata": {},
   "outputs": [
    {
     "name": "stdout",
     "output_type": "stream",
     "text": [
      "If all block will fail, do this\n"
     ]
    }
   ],
   "source": [
    "a=10\n",
    "if a ==12:\n",
    "    print(\"Here we comparing 10 with 12\")\n",
    "elif a==11:\n",
    "    print(\"Here we competing 10 with 11\")\n",
    "else:\n",
    "    print(\"If all block will fail, do this\")"
   ]
  },
  {
   "cell_type": "code",
   "execution_count": 42,
   "id": "0099de9f",
   "metadata": {},
   "outputs": [
    {
     "name": "stdout",
     "output_type": "stream",
     "text": [
      "For sure, I will buy the Jacket\n"
     ]
    }
   ],
   "source": [
    "price=500\n",
    "if price>500:\n",
    "    print(\"Maybe I won't be able to buy the jacket\")\n",
    "elif price<500:\n",
    "    print(\"I will able to but the Jacket\")\n",
    "elif price==500:\n",
    "    print(\"For sure, I will buy the Jacket\")\n",
    "else:\n",
    "    print(\"The price is unknown\")\n",
    "    "
   ]
  },
  {
   "cell_type": "code",
   "execution_count": 43,
   "id": "97fb5de0",
   "metadata": {},
   "outputs": [
    {
     "data": {
      "text/plain": [
       "False"
      ]
     },
     "execution_count": 43,
     "metadata": {},
     "output_type": "execute_result"
    }
   ],
   "source": [
    "price>500"
   ]
  },
  {
   "cell_type": "code",
   "execution_count": 44,
   "id": "43343a6f",
   "metadata": {},
   "outputs": [
    {
     "data": {
      "text/plain": [
       "False"
      ]
     },
     "execution_count": 44,
     "metadata": {},
     "output_type": "execute_result"
    }
   ],
   "source": [
    "price<500"
   ]
  },
  {
   "cell_type": "code",
   "execution_count": 45,
   "id": "65e20fde",
   "metadata": {},
   "outputs": [
    {
     "data": {
      "text/plain": [
       "True"
      ]
     },
     "execution_count": 45,
     "metadata": {},
     "output_type": "execute_result"
    }
   ],
   "source": [
    "price==500"
   ]
  },
  {
   "cell_type": "code",
   "execution_count": 48,
   "id": "1ca45272",
   "metadata": {},
   "outputs": [
    {
     "data": {
      "text/plain": [
       "True"
      ]
     },
     "execution_count": 48,
     "metadata": {},
     "output_type": "execute_result"
    }
   ],
   "source": [
    "l=[1,2,3,4,5,6]\n",
    "2 in l"
   ]
  },
  {
   "cell_type": "code",
   "execution_count": 49,
   "id": "b4786bd6",
   "metadata": {},
   "outputs": [
    {
     "name": "stdout",
     "output_type": "stream",
     "text": [
      "60 is not present in the list l\n"
     ]
    }
   ],
   "source": [
    "if 60 in l:\n",
    "    print(\"60 is present in the List l\")\n",
    "else:\n",
    "    print(\"60 is not present in the list l\")"
   ]
  },
  {
   "cell_type": "code",
   "execution_count": 50,
   "id": "820902f9",
   "metadata": {},
   "outputs": [
    {
     "data": {
      "text/plain": [
       "False"
      ]
     },
     "execution_count": 50,
     "metadata": {},
     "output_type": "execute_result"
    }
   ],
   "source": [
    "60 in l"
   ]
  },
  {
   "cell_type": "code",
   "execution_count": 51,
   "id": "1e698576",
   "metadata": {},
   "outputs": [
    {
     "data": {
      "text/plain": [
       "[1, 2, 3, 4, 5, 6]"
      ]
     },
     "execution_count": 51,
     "metadata": {},
     "output_type": "execute_result"
    }
   ],
   "source": [
    "l"
   ]
  },
  {
   "cell_type": "code",
   "execution_count": 53,
   "id": "8034ab2a",
   "metadata": {},
   "outputs": [
    {
     "name": "stdout",
     "output_type": "stream",
     "text": [
      "Try to do Sub\n",
      "This is new statement\n"
     ]
    }
   ],
   "source": [
    "if 10 in l:\n",
    "    print(\"Try to do a addition\")\n",
    "elif 2 in l:\n",
    "    print(\"Try to do Sub\")\n",
    "elif 3 in l:\n",
    "    print(\"Try to do Mul\")\n",
    "if 4 in l:\n",
    "    print(\"This is new statement\")"
   ]
  },
  {
   "cell_type": "code",
   "execution_count": 57,
   "id": "7c41f61c",
   "metadata": {},
   "outputs": [
    {
     "name": "stdout",
     "output_type": "stream",
     "text": [
      "Enter the Price:120\n",
      "I will able to Buy something\n",
      "I will buy the Jacket\n"
     ]
    }
   ],
   "source": [
    "price=int(input(\"Enter the Price:\"))\n",
    "if price<500:\n",
    "    print(\"I will able to Buy something\")\n",
    "    if price<400:\n",
    "        print(\"I will buy the Jacket\")\n",
    "    elif price <300:\n",
    "        print(\"I will able to buy a Shirt only\")\n",
    "        if price <200:\n",
    "            print(\"I would like to do Something\")\n",
    "    else:\n",
    "        print(\"I wont be able to buy anything\")\n",
    "else:\n",
    "    print(\"I wont be able to buy something with this price tag\")\n",
    "    if price>500:\n",
    "        print(\"The  price is\",price)\n",
    "        "
   ]
  },
  {
   "cell_type": "code",
   "execution_count": 58,
   "id": "2161eaea",
   "metadata": {},
   "outputs": [
    {
     "name": "stdout",
     "output_type": "stream",
     "text": [
      "450\n",
      "Second Division\n",
      "Average Performance\n"
     ]
    }
   ],
   "source": [
    "marks=int(input())\n",
    "if marks<600:\n",
    "    print(\"Second Division\")\n",
    "    if marks<500:\n",
    "        print(\"Average Performance\")\n",
    "        if marks<400:\n",
    "            print(\"Improvement Needed\")\n",
    "    else:\n",
    "        print(\"The performance is not up to the Mark\")\n",
    "else:\n",
    "    print(\"You got First Division\")"
   ]
  },
  {
   "cell_type": "code",
   "execution_count": 60,
   "id": "a58db891",
   "metadata": {},
   "outputs": [
    {
     "name": "stdout",
     "output_type": "stream",
     "text": [
      "Enter a float point number:-12\n",
      "The Entered number is Negative\n"
     ]
    }
   ],
   "source": [
    "val = float(input(\"Enter a float point number:\"))\n",
    "if val>=0:\n",
    "    if val==0:\n",
    "        print(\"Entered a Zero Value\")\n",
    "    else:\n",
    "        print(\"Entered number is Positive\")\n",
    "        \n",
    "else:\n",
    "    print(\"The Entered number is Negative\")\n",
    "    "
   ]
  },
  {
   "cell_type": "code",
   "execution_count": 62,
   "id": "70f9f1ec",
   "metadata": {},
   "outputs": [
    {
     "name": "stdout",
     "output_type": "stream",
     "text": [
      "Let's do something 1\n",
      "Let's do something 2\n"
     ]
    }
   ],
   "source": [
    "a,b,c,d=10,11,12,13\n",
    "\n",
    "if a==10 or b==11 and c==12 and d==113:\n",
    "    print(\"Let's do something 1\")\n",
    "\n",
    "if (a==10 and b==11) or (c==12 and d==113):\n",
    "    print(\"Let's do something 2\")\n",
    "\n",
    "if a==10 and b==11 and c==12 and d==113 or a==9:\n",
    "    print(\"Let's do something 3\")\n",
    "\n",
    "if a==9 and b==11 and c==12 and d==13:\n",
    "    print(\"Let's do something 4\")"
   ]
  },
  {
   "cell_type": "code",
   "execution_count": 66,
   "id": "39aa00fe",
   "metadata": {},
   "outputs": [
    {
     "name": "stdout",
     "output_type": "stream",
     "text": [
      "True\n"
     ]
    }
   ],
   "source": [
    "print(type(a)==int)"
   ]
  },
  {
   "cell_type": "code",
   "execution_count": 67,
   "id": "8f37bb3f",
   "metadata": {},
   "outputs": [
    {
     "name": "stdout",
     "output_type": "stream",
     "text": [
      "True\n"
     ]
    }
   ],
   "source": [
    "print(type(a) is int)"
   ]
  },
  {
   "cell_type": "code",
   "execution_count": 63,
   "id": "bc50f5f0",
   "metadata": {},
   "outputs": [],
   "source": [
    "l1=[]\n",
    "l2=[]"
   ]
  },
  {
   "cell_type": "code",
   "execution_count": 64,
   "id": "ba57828c",
   "metadata": {},
   "outputs": [
    {
     "data": {
      "text/plain": [
       "True"
      ]
     },
     "execution_count": 64,
     "metadata": {},
     "output_type": "execute_result"
    }
   ],
   "source": [
    "l1==l2 # here the value is  being compared"
   ]
  },
  {
   "cell_type": "code",
   "execution_count": 65,
   "id": "51f49556",
   "metadata": {},
   "outputs": [
    {
     "data": {
      "text/plain": [
       "False"
      ]
     },
     "execution_count": 65,
     "metadata": {},
     "output_type": "execute_result"
    }
   ],
   "source": [
    "l1 is l2 #here the object is being compared"
   ]
  },
  {
   "cell_type": "code",
   "execution_count": 68,
   "id": "803e0396",
   "metadata": {},
   "outputs": [],
   "source": [
    "a=10\n",
    "if a <10 and a==10:\n",
    "    print(\"Try to do something\")"
   ]
  },
  {
   "cell_type": "code",
   "execution_count": 69,
   "id": "c7966fa3",
   "metadata": {},
   "outputs": [
    {
     "name": "stdout",
     "output_type": "stream",
     "text": [
      "This is truth\n"
     ]
    }
   ],
   "source": [
    "a='python'\n",
    "if a==\"python\" or a==\"Python\":\n",
    "    print(\"This is truth\")"
   ]
  },
  {
   "cell_type": "code",
   "execution_count": 70,
   "id": "fc3c9463",
   "metadata": {},
   "outputs": [
    {
     "name": "stdout",
     "output_type": "stream",
     "text": [
      "Let's do something\n"
     ]
    }
   ],
   "source": [
    "a=10\n",
    "b=11\n",
    "c=12\n",
    "d=13\n",
    "\n",
    "if a==9 or b==11 and c==12 and d==13:\n",
    "    print(\"Let's do something\")"
   ]
  },
  {
   "cell_type": "code",
   "execution_count": 71,
   "id": "ac00752e",
   "metadata": {},
   "outputs": [],
   "source": [
    "d={'key1':'value1','key2':'sandy','key3':'Sandeep'}"
   ]
  },
  {
   "cell_type": "code",
   "execution_count": 72,
   "id": "728fad20",
   "metadata": {},
   "outputs": [
    {
     "name": "stdout",
     "output_type": "stream",
     "text": [
      "All values are not varified\n"
     ]
    }
   ],
   "source": [
    "if d['key1']=='value1' and d['key2']=='sandy' and d['key3']==\"Kumar\":\n",
    "    print(\"All values are varified\")\n",
    "    print(d.values())\n",
    "else:\n",
    "    print(\"All values are not varified\")\n",
    "    "
   ]
  },
  {
   "cell_type": "code",
   "execution_count": 73,
   "id": "83902cfa",
   "metadata": {},
   "outputs": [
    {
     "data": {
      "text/plain": [
       "'value1'"
      ]
     },
     "execution_count": 73,
     "metadata": {},
     "output_type": "execute_result"
    }
   ],
   "source": [
    "d['key1']"
   ]
  },
  {
   "cell_type": "code",
   "execution_count": 74,
   "id": "92f40304",
   "metadata": {},
   "outputs": [],
   "source": [
    "l=[1,2,3,4,5,'hello',234.45]"
   ]
  },
  {
   "cell_type": "code",
   "execution_count": 75,
   "id": "1f6bd41b",
   "metadata": {},
   "outputs": [
    {
     "data": {
      "text/plain": [
       "1"
      ]
     },
     "execution_count": 75,
     "metadata": {},
     "output_type": "execute_result"
    }
   ],
   "source": [
    "l[0]"
   ]
  },
  {
   "cell_type": "code",
   "execution_count": 76,
   "id": "af26bfea",
   "metadata": {},
   "outputs": [
    {
     "data": {
      "text/plain": [
       "[3, 4, 5]"
      ]
     },
     "execution_count": 76,
     "metadata": {},
     "output_type": "execute_result"
    }
   ],
   "source": [
    "l[2:5]"
   ]
  },
  {
   "cell_type": "code",
   "execution_count": 79,
   "id": "a639f44c",
   "metadata": {},
   "outputs": [
    {
     "name": "stdout",
     "output_type": "stream",
     "text": [
      "2\n",
      "3\n",
      "4\n",
      "5\n",
      "6\n",
      "hello1\n",
      "235.45\n"
     ]
    }
   ],
   "source": [
    "for i in l:\n",
    "    if type(i)==int or type(i)==float:\n",
    "        print(i+1)\n",
    "    elif type(i)==str:\n",
    "        print(i+str(1))"
   ]
  },
  {
   "cell_type": "code",
   "execution_count": 80,
   "id": "3809791b",
   "metadata": {},
   "outputs": [
    {
     "data": {
      "text/plain": [
       "[1, 2, 3, 4, 5, 'hello', 234.45]"
      ]
     },
     "execution_count": 80,
     "metadata": {},
     "output_type": "execute_result"
    }
   ],
   "source": [
    "l"
   ]
  },
  {
   "cell_type": "code",
   "execution_count": 90,
   "id": "c80261ce",
   "metadata": {},
   "outputs": [],
   "source": [
    "a=[9,8,7,6,4,3,2,10]"
   ]
  },
  {
   "cell_type": "code",
   "execution_count": 83,
   "id": "fe869818",
   "metadata": {},
   "outputs": [
    {
     "data": {
      "text/plain": [
       "[9, 8, 7, 6, 4, 3, 2, 10]"
      ]
     },
     "execution_count": 83,
     "metadata": {},
     "output_type": "execute_result"
    }
   ],
   "source": [
    "a"
   ]
  },
  {
   "cell_type": "code",
   "execution_count": 82,
   "id": "1c3ac891",
   "metadata": {},
   "outputs": [
    {
     "name": "stdout",
     "output_type": "stream",
     "text": [
      "9 8 7 6 4 3 2 10 "
     ]
    }
   ],
   "source": [
    "for i in a:\n",
    "    print(i, end=\" \")"
   ]
  },
  {
   "cell_type": "code",
   "execution_count": 86,
   "id": "f2ca6ab6",
   "metadata": {},
   "outputs": [],
   "source": [
    "l1=[]\n",
    "for i in l:\n",
    "    if type(i)==int:\n",
    "        l1.append(i)"
   ]
  },
  {
   "cell_type": "code",
   "execution_count": 87,
   "id": "9ebd9fa9",
   "metadata": {},
   "outputs": [
    {
     "data": {
      "text/plain": [
       "[1, 2, 3, 4, 5]"
      ]
     },
     "execution_count": 87,
     "metadata": {},
     "output_type": "execute_result"
    }
   ],
   "source": [
    "l1"
   ]
  },
  {
   "cell_type": "code",
   "execution_count": 93,
   "id": "f89fbba8",
   "metadata": {},
   "outputs": [
    {
     "name": "stdout",
     "output_type": "stream",
     "text": [
      "2\n",
      "3\n",
      "4\n",
      "5\n",
      "6\n",
      "hello1\n",
      "235.45\n"
     ]
    }
   ],
   "source": [
    "l=[1,2,3,4,5,'hello',234.45]\n",
    "a=[9,8,7,6,4,3,2,10]\n",
    "\n",
    "for a in l:\n",
    "    if type(a) ==int:\n",
    "        print(a+1)\n",
    "    elif type(a)==str:\n",
    "        print(a+str(1))\n",
    "    elif type(a) ==float:\n",
    "        print(a+float(1))"
   ]
  },
  {
   "cell_type": "code",
   "execution_count": 97,
   "id": "029bf784",
   "metadata": {},
   "outputs": [
    {
     "ename": "AttributeError",
     "evalue": "'list' object has no attribute 'isnumeric'",
     "output_type": "error",
     "traceback": [
      "\u001b[1;31m---------------------------------------------------------------------------\u001b[0m",
      "\u001b[1;31mAttributeError\u001b[0m                            Traceback (most recent call last)",
      "Input \u001b[1;32mIn [97]\u001b[0m, in \u001b[0;36m<cell line: 2>\u001b[1;34m()\u001b[0m\n\u001b[0;32m      1\u001b[0m l\u001b[38;5;241m=\u001b[39m[\u001b[38;5;241m1\u001b[39m,\u001b[38;5;241m2\u001b[39m,\u001b[38;5;241m3\u001b[39m,\u001b[38;5;241m4\u001b[39m,\u001b[38;5;241m5\u001b[39m,\u001b[38;5;124m\"\u001b[39m\u001b[38;5;124mcar\u001b[39m\u001b[38;5;124m\"\u001b[39m,\u001b[38;5;241m6\u001b[39m,\u001b[38;5;241m7\u001b[39m,\u001b[38;5;241m8\u001b[39m]\n\u001b[0;32m      2\u001b[0m \u001b[38;5;28;01mfor\u001b[39;00m i \u001b[38;5;129;01min\u001b[39;00m l:\n\u001b[1;32m----> 3\u001b[0m     \u001b[38;5;28;01mif\u001b[39;00m \u001b[43ml\u001b[49m\u001b[38;5;241;43m.\u001b[39;49m\u001b[43misnumeric\u001b[49m(i):\n\u001b[0;32m      4\u001b[0m         \u001b[38;5;28mprint\u001b[39m(i)\n",
      "\u001b[1;31mAttributeError\u001b[0m: 'list' object has no attribute 'isnumeric'"
     ]
    }
   ],
   "source": [
    "l=[1,2,3,4,5,\"car\",6,7,8]\n",
    "for i in l:\n",
    "    if l.isnumeric(i):\n",
    "        print(i)"
   ]
  },
  {
   "cell_type": "code",
   "execution_count": 99,
   "id": "b8a7cd72",
   "metadata": {},
   "outputs": [
    {
     "name": "stdout",
     "output_type": "stream",
     "text": [
      "Enter your name:Sandeep\n",
      "['Sandeep']\n"
     ]
    }
   ],
   "source": [
    "l=[]\n",
    "name=input(\"Enter your name:\")\n",
    "if name==\"Sandeep\":\n",
    "    l.append(name)\n",
    "print(l)"
   ]
  },
  {
   "cell_type": "code",
   "execution_count": 1,
   "id": "54c96462",
   "metadata": {},
   "outputs": [],
   "source": [
    "l=[1,2,3,4,5,6,7,8,9,10,11]"
   ]
  },
  {
   "cell_type": "code",
   "execution_count": 5,
   "id": "725d9c9c",
   "metadata": {},
   "outputs": [
    {
     "data": {
      "text/plain": [
       "[1, 3, 5, 7, 9, 11]"
      ]
     },
     "execution_count": 5,
     "metadata": {},
     "output_type": "execute_result"
    }
   ],
   "source": [
    "l[0::2]"
   ]
  },
  {
   "cell_type": "code",
   "execution_count": 6,
   "id": "fb00c396",
   "metadata": {},
   "outputs": [
    {
     "data": {
      "text/plain": [
       "[2, 4, 6, 8, 10]"
      ]
     },
     "execution_count": 6,
     "metadata": {},
     "output_type": "execute_result"
    }
   ],
   "source": [
    "l[1::2]"
   ]
  },
  {
   "cell_type": "markdown",
   "id": "e10090fd",
   "metadata": {},
   "source": [
    "> #### For Loop"
   ]
  },
  {
   "cell_type": "code",
   "execution_count": 11,
   "id": "0b8bf9d1",
   "metadata": {},
   "outputs": [
    {
     "name": "stdout",
     "output_type": "stream",
     "text": [
      "1\n",
      "2\n",
      "3\n",
      "4\n",
      "Sandeep\n",
      "32.8\n",
      "True\n",
      "Ohk\n"
     ]
    }
   ],
   "source": [
    "l=[1,2,3,4,\"Sandeep\",32.8,True]\n",
    "for i in l:\n",
    "    print(i)\n",
    "else:\n",
    "    print(\"Ohk\")"
   ]
  },
  {
   "cell_type": "code",
   "execution_count": 9,
   "id": "d10fb76b",
   "metadata": {},
   "outputs": [
    {
     "data": {
      "text/plain": [
       "[1, 2, 3, 'Sandeep', 32.8, True]"
      ]
     },
     "execution_count": 9,
     "metadata": {},
     "output_type": "execute_result"
    }
   ],
   "source": [
    "l"
   ]
  },
  {
   "cell_type": "code",
   "execution_count": 12,
   "id": "e9c2aa64",
   "metadata": {},
   "outputs": [
    {
     "name": "stdout",
     "output_type": "stream",
     "text": [
      "1\n",
      "2\n",
      "3\n"
     ]
    }
   ],
   "source": [
    "for i in l:\n",
    "    if i==4:\n",
    "        break\n",
    "    print(i)\n",
    "else:\n",
    "    print(\"Else block will execute only if For loop is goiing to Complete itself\")"
   ]
  },
  {
   "cell_type": "code",
   "execution_count": 14,
   "id": "f5a55963",
   "metadata": {},
   "outputs": [
    {
     "name": "stdout",
     "output_type": "stream",
     "text": [
      "D\n",
      "e\n",
      "f\n",
      "e\n",
      "n\n",
      "c\n",
      "e\n",
      "Original String Defence\n"
     ]
    }
   ],
   "source": [
    "s=\"Defence\"\n",
    "for i in s:\n",
    "    if i=='z':\n",
    "        break\n",
    "    print(i)\n",
    "else:\n",
    "    print(\"Original String\",s)"
   ]
  },
  {
   "cell_type": "code",
   "execution_count": 16,
   "id": "f3e227d4",
   "metadata": {},
   "outputs": [
    {
     "name": "stdout",
     "output_type": "stream",
     "text": [
      "4 5 6 7 8 6 karma "
     ]
    }
   ],
   "source": [
    "t=(4,5,6,7,8,6,'karma')\n",
    "for i in t:\n",
    "    print(i, end=\" \")"
   ]
  },
  {
   "cell_type": "code",
   "execution_count": 17,
   "id": "b04f40e0",
   "metadata": {},
   "outputs": [],
   "source": [
    "b={4,5,6,7,7,7,7,7,7,7,7,8,\"Karma\"}"
   ]
  },
  {
   "cell_type": "code",
   "execution_count": 18,
   "id": "8169e407",
   "metadata": {},
   "outputs": [
    {
     "data": {
      "text/plain": [
       "set"
      ]
     },
     "execution_count": 18,
     "metadata": {},
     "output_type": "execute_result"
    }
   ],
   "source": [
    "type(b)"
   ]
  },
  {
   "cell_type": "code",
   "execution_count": 19,
   "id": "8eeddf89",
   "metadata": {},
   "outputs": [
    {
     "data": {
      "text/plain": [
       "{4, 5, 6, 7, 8, 'Karma'}"
      ]
     },
     "execution_count": 19,
     "metadata": {},
     "output_type": "execute_result"
    }
   ],
   "source": [
    "b"
   ]
  },
  {
   "cell_type": "code",
   "execution_count": 21,
   "id": "e3bf9f64",
   "metadata": {},
   "outputs": [
    {
     "name": "stdout",
     "output_type": "stream",
     "text": [
      "4\n",
      "5\n",
      "6\n",
      "7\n",
      "8\n",
      "Karma\n"
     ]
    }
   ],
   "source": [
    "for i in b:\n",
    "    print(i)"
   ]
  },
  {
   "cell_type": "code",
   "execution_count": 22,
   "id": "388f3d83",
   "metadata": {},
   "outputs": [
    {
     "name": "stdout",
     "output_type": "stream",
     "text": [
      "key1 : Karma\n",
      "Key2 : Python\n",
      "Key3 : xyz\n"
     ]
    }
   ],
   "source": [
    "d={\"key1\":\"Karma\",\"Key2\":\"Python\",\"Key3\":\"xyz\"}\n",
    "for i in d:\n",
    "    print(i,\":\",d[i])"
   ]
  },
  {
   "cell_type": "code",
   "execution_count": 23,
   "id": "8437f4b2",
   "metadata": {},
   "outputs": [
    {
     "data": {
      "text/plain": [
       "[0, 1, 2, 3, 4, 5, 6, 7, 8]"
      ]
     },
     "execution_count": 23,
     "metadata": {},
     "output_type": "execute_result"
    }
   ],
   "source": [
    "list(range(9))"
   ]
  },
  {
   "cell_type": "code",
   "execution_count": 25,
   "id": "db9a1739",
   "metadata": {},
   "outputs": [
    {
     "name": "stdout",
     "output_type": "stream",
     "text": [
      "0 1 2 3 4 5 6 7 8 "
     ]
    }
   ],
   "source": [
    "for i in range(9):\n",
    "    print(i,end=\" \")"
   ]
  },
  {
   "cell_type": "code",
   "execution_count": 26,
   "id": "d9724944",
   "metadata": {},
   "outputs": [
    {
     "data": {
      "text/plain": [
       "[0, 2, 4, 6, 8]"
      ]
     },
     "execution_count": 26,
     "metadata": {},
     "output_type": "execute_result"
    }
   ],
   "source": [
    "list(range(0,10,2))"
   ]
  },
  {
   "cell_type": "code",
   "execution_count": 27,
   "id": "7a697799",
   "metadata": {},
   "outputs": [
    {
     "data": {
      "text/plain": [
       "[0, 1, 2, 3, 4, 5, 6, 7, 8]"
      ]
     },
     "execution_count": 27,
     "metadata": {},
     "output_type": "execute_result"
    }
   ],
   "source": [
    "list(range(0,9))"
   ]
  },
  {
   "cell_type": "code",
   "execution_count": 31,
   "id": "f5e607fe",
   "metadata": {},
   "outputs": [
    {
     "data": {
      "text/plain": [
       "[9, 8, 7, 6, 5, 4, 3, 2, 1]"
      ]
     },
     "execution_count": 31,
     "metadata": {},
     "output_type": "execute_result"
    }
   ],
   "source": [
    "list(range(9,0,-1))"
   ]
  },
  {
   "cell_type": "code",
   "execution_count": 32,
   "id": "43d1bf2f",
   "metadata": {},
   "outputs": [
    {
     "name": "stdout",
     "output_type": "stream",
     "text": [
      "class \n",
      "\n",
      "class class \n",
      "\n",
      "class class class \n",
      "\n",
      "class class class class \n",
      "\n"
     ]
    }
   ],
   "source": [
    "n=4\n",
    "for i in range(4):\n",
    "    for j in range(i+1):\n",
    "        print('class',end =\" \")\n",
    "    print(\"\\n\")"
   ]
  },
  {
   "cell_type": "code",
   "execution_count": 34,
   "id": "c90e6457",
   "metadata": {},
   "outputs": [
    {
     "name": "stdout",
     "output_type": "stream",
     "text": [
      "            Class \n",
      "      Class Class Class \n",
      "Class Class Class Class Class \n"
     ]
    }
   ],
   "source": [
    "n=3\n",
    "for i in range(n):\n",
    "    for j in range(i,n-1):\n",
    "        print(\" \"* len(\"Class\"),end=\" \")\n",
    "    for j in range(i+1):\n",
    "        print(\"Class\",end=\" \")\n",
    "    for j in range(i):\n",
    "        print(\"Class\",end=\" \")\n",
    "    print()"
   ]
  },
  {
   "cell_type": "code",
   "execution_count": 38,
   "id": "be2012fe",
   "metadata": {},
   "outputs": [
    {
     "name": "stdout",
     "output_type": "stream",
     "text": [
      "           Class \n",
      "        Class Class \n",
      "     Class Class Class \n",
      "  Class Class Class Class \n"
     ]
    }
   ],
   "source": [
    "n=4\n",
    "k=n\n",
    "for i  in range(n):\n",
    "    k=k-1 \n",
    "    print(\"   \"*k,end=\"  \")\n",
    "    for j in range(i+1):\n",
    "        print(\"Class\",end=\" \")\n",
    "    print()"
   ]
  },
  {
   "cell_type": "code",
   "execution_count": 39,
   "id": "c6165cdd",
   "metadata": {},
   "outputs": [
    {
     "name": "stdout",
     "output_type": "stream",
     "text": [
      "  Class \n",
      " Class Class \n",
      "Class Class Class \n"
     ]
    }
   ],
   "source": [
    "n=3\n",
    "for i in range(n):\n",
    "    for j in range(i,n-1):\n",
    "        print(\"\",end=\" \")\n",
    "    for j in range(i+1):\n",
    "        print(\"Class\",end=\" \")\n",
    "    print()"
   ]
  },
  {
   "cell_type": "code",
   "execution_count": 45,
   "id": "9bdd9601",
   "metadata": {},
   "outputs": [
    {
     "name": "stdout",
     "output_type": "stream",
     "text": [
      "      \n",
      "      class \n",
      "    class   class \n",
      "  class   class   class \n"
     ]
    }
   ],
   "source": [
    "n=3\n",
    "for i in range(n+1):\n",
    "    print(\"  \"*(n-i)+\" class \"*i)"
   ]
  },
  {
   "cell_type": "code",
   "execution_count": 46,
   "id": "7c2004a6",
   "metadata": {},
   "outputs": [
    {
     "data": {
      "text/plain": [
       "[]"
      ]
     },
     "execution_count": 46,
     "metadata": {},
     "output_type": "execute_result"
    }
   ],
   "source": [
    "list(range(0))"
   ]
  },
  {
   "cell_type": "code",
   "execution_count": 47,
   "id": "f77d2593",
   "metadata": {},
   "outputs": [],
   "source": [
    "t=(3,23,45,67,2,4,5,6)"
   ]
  },
  {
   "cell_type": "code",
   "execution_count": 48,
   "id": "cd0f1283",
   "metadata": {},
   "outputs": [
    {
     "data": {
      "text/plain": [
       "3"
      ]
     },
     "execution_count": 48,
     "metadata": {},
     "output_type": "execute_result"
    }
   ],
   "source": [
    "t[0]"
   ]
  },
  {
   "cell_type": "code",
   "execution_count": 49,
   "id": "584a911a",
   "metadata": {},
   "outputs": [
    {
     "name": "stdout",
     "output_type": "stream",
     "text": [
      "0 3\n",
      "1 23\n",
      "2 45\n",
      "3 67\n",
      "4 2\n",
      "5 4\n",
      "6 5\n",
      "7 6\n"
     ]
    }
   ],
   "source": [
    "for i in range(len(t)):\n",
    "    print(i,t[i])"
   ]
  },
  {
   "cell_type": "code",
   "execution_count": 50,
   "id": "81bd119f",
   "metadata": {},
   "outputs": [
    {
     "data": {
      "text/plain": [
       "[0, 1, 2, 3, 4, 5, 6, 7]"
      ]
     },
     "execution_count": 50,
     "metadata": {},
     "output_type": "execute_result"
    }
   ],
   "source": [
    "list(range(len(t)))"
   ]
  },
  {
   "cell_type": "code",
   "execution_count": 52,
   "id": "7d863935",
   "metadata": {},
   "outputs": [
    {
     "name": "stdout",
     "output_type": "stream",
     "text": [
      "0 S\n",
      "1 a\n",
      "2 n\n",
      "3 d\n",
      "4 e\n",
      "5 e\n",
      "6 p\n"
     ]
    }
   ],
   "source": [
    "s=\"Sandeep\"\n",
    "\n",
    "for i in range(len(s)):\n",
    "    print(i,s[i])"
   ]
  },
  {
   "cell_type": "code",
   "execution_count": 53,
   "id": "fabf8f18",
   "metadata": {},
   "outputs": [
    {
     "name": "stdout",
     "output_type": "stream",
     "text": [
      "('key1', 'Karma') <class 'tuple'> <class 'str'>\n",
      "('Key2', 'Python') <class 'tuple'> <class 'str'>\n",
      "('Key3', 'xyz') <class 'tuple'> <class 'str'>\n"
     ]
    }
   ],
   "source": [
    "for i in d.items():\n",
    "    print(i, type(i),type(i[1]))"
   ]
  },
  {
   "cell_type": "code",
   "execution_count": 58,
   "id": "4146c836",
   "metadata": {},
   "outputs": [],
   "source": [
    "s='aaaaabbccd'"
   ]
  },
  {
   "cell_type": "code",
   "execution_count": 60,
   "id": "74e877ac",
   "metadata": {},
   "outputs": [
    {
     "name": "stdout",
     "output_type": "stream",
     "text": [
      "d : 1\n",
      "c : 2\n",
      "b : 2\n",
      "a : 5\n"
     ]
    }
   ],
   "source": [
    "for i  in set(s):\n",
    "    print(i,\":\",s.count(i))"
   ]
  },
  {
   "cell_type": "code",
   "execution_count": 62,
   "id": "d0942442",
   "metadata": {},
   "outputs": [
    {
     "data": {
      "text/plain": [
       "5"
      ]
     },
     "execution_count": 62,
     "metadata": {},
     "output_type": "execute_result"
    }
   ],
   "source": [
    "s.count('a')"
   ]
  },
  {
   "cell_type": "code",
   "execution_count": 64,
   "id": "64212871",
   "metadata": {},
   "outputs": [
    {
     "name": "stdout",
     "output_type": "stream",
     "text": [
      "3 <class 'int'>\n",
      "4 <class 'int'>\n",
      "5 <class 'int'>\n",
      "3 <class 'int'>\n",
      "4 <class 'int'>\n",
      "6 <class 'int'>\n",
      "5 <class 'int'>\n",
      "4 <class 'int'>\n",
      "6 <class 'int'>\n",
      "6 <class 'int'>\n",
      "4 <class 'int'>\n",
      "5 <class 'int'>\n",
      "2 <class 'int'>\n",
      "5 <class 'int'>\n"
     ]
    }
   ],
   "source": [
    "i=34534654664525\n",
    "\n",
    "for j in str(i):\n",
    "    print(int(j),type(int(j)))"
   ]
  },
  {
   "cell_type": "code",
   "execution_count": 72,
   "id": "4dd7b577",
   "metadata": {},
   "outputs": [],
   "source": [
    "t=(\"Python\",\"Class\",[1,2,3,4,5],(3,4,5,6),{3:4,\"Key1\":\"Web\",3:\"a\",\"key2\":\"b\",\"key3\":\"c\"})"
   ]
  },
  {
   "cell_type": "code",
   "execution_count": 73,
   "id": "fdbe2248",
   "metadata": {},
   "outputs": [
    {
     "name": "stdout",
     "output_type": "stream",
     "text": [
      "3\n",
      "3\n",
      "3\n",
      "a\n"
     ]
    }
   ],
   "source": [
    "for i in t:\n",
    "    if type(i) == list or type(i)==tuple:\n",
    "        for j in i:\n",
    "            if j==3:\n",
    "                print(j)\n",
    "    if type(i) ==dict:\n",
    "        for k,l in i.items():\n",
    "            if k==3 or l==3:\n",
    "                print(k)\n",
    "                print(l)"
   ]
  },
  {
   "cell_type": "code",
   "execution_count": 74,
   "id": "5fea8ebb",
   "metadata": {},
   "outputs": [],
   "source": [
    "d={4:5,\"key1\":\"py\",\"key2\":\"Version\"}"
   ]
  },
  {
   "cell_type": "code",
   "execution_count": 75,
   "id": "0681de03",
   "metadata": {},
   "outputs": [
    {
     "data": {
      "text/plain": [
       "dict_items([(4, 5), ('key1', 'py'), ('key2', 'Version')])"
      ]
     },
     "execution_count": 75,
     "metadata": {},
     "output_type": "execute_result"
    }
   ],
   "source": [
    "d.items()"
   ]
  },
  {
   "cell_type": "code",
   "execution_count": 76,
   "id": "5d091063",
   "metadata": {},
   "outputs": [
    {
     "name": "stdout",
     "output_type": "stream",
     "text": [
      "(4, 5)\n",
      "('key1', 'py')\n",
      "('key2', 'Version')\n"
     ]
    }
   ],
   "source": [
    "for i in d.items():\n",
    "    print(i)"
   ]
  },
  {
   "cell_type": "code",
   "execution_count": 77,
   "id": "1a2077bf",
   "metadata": {},
   "outputs": [],
   "source": [
    "a=10\n",
    "b=20\n",
    "c=30"
   ]
  },
  {
   "cell_type": "code",
   "execution_count": 78,
   "id": "6e7d614c",
   "metadata": {},
   "outputs": [],
   "source": [
    "a,b,c=10,20,30"
   ]
  },
  {
   "cell_type": "code",
   "execution_count": 79,
   "id": "02284c41",
   "metadata": {},
   "outputs": [
    {
     "data": {
      "text/plain": [
       "10"
      ]
     },
     "execution_count": 79,
     "metadata": {},
     "output_type": "execute_result"
    }
   ],
   "source": [
    "a"
   ]
  },
  {
   "cell_type": "code",
   "execution_count": 80,
   "id": "182a9314",
   "metadata": {},
   "outputs": [],
   "source": [
    "a,b,c=(10,20,30)"
   ]
  },
  {
   "cell_type": "code",
   "execution_count": 81,
   "id": "7425f978",
   "metadata": {},
   "outputs": [
    {
     "data": {
      "text/plain": [
       "10"
      ]
     },
     "execution_count": 81,
     "metadata": {},
     "output_type": "execute_result"
    }
   ],
   "source": [
    "a"
   ]
  },
  {
   "cell_type": "code",
   "execution_count": null,
   "id": "f3036f03",
   "metadata": {},
   "outputs": [],
   "source": []
  },
  {
   "cell_type": "code",
   "execution_count": null,
   "id": "693a8cbe",
   "metadata": {},
   "outputs": [],
   "source": []
  },
  {
   "cell_type": "code",
   "execution_count": null,
   "id": "7876cb8f",
   "metadata": {},
   "outputs": [],
   "source": []
  },
  {
   "cell_type": "code",
   "execution_count": null,
   "id": "945da005",
   "metadata": {},
   "outputs": [],
   "source": []
  },
  {
   "cell_type": "code",
   "execution_count": null,
   "id": "d483ae49",
   "metadata": {},
   "outputs": [],
   "source": []
  },
  {
   "cell_type": "code",
   "execution_count": null,
   "id": "7ccb5d2e",
   "metadata": {},
   "outputs": [],
   "source": []
  },
  {
   "cell_type": "code",
   "execution_count": null,
   "id": "dcb57c13",
   "metadata": {},
   "outputs": [],
   "source": []
  },
  {
   "cell_type": "code",
   "execution_count": null,
   "id": "6e8b83ce",
   "metadata": {},
   "outputs": [],
   "source": []
  },
  {
   "cell_type": "code",
   "execution_count": 2,
   "id": "97033f9a",
   "metadata": {},
   "outputs": [
    {
     "name": "stdout",
     "output_type": "stream",
     "text": [
      "Matrix Addition:\n",
      "[[8, 12], [13, 15]]\n",
      "\n",
      "Matrix Subtraction:\n",
      "[[-2, 0], [-1, -1]]\n",
      "\n",
      "Matrix Multiplication:\n",
      "[[57, 66], [79, 92]]\n"
     ]
    }
   ],
   "source": [
    "#Question 01 without user input\n",
    "\n",
    "import logging\n",
    "\n",
    "# Configure logging to write to a file\n",
    "logging.basicConfig(filename='matrix_operations.log', level=logging.ERROR, \n",
    "                    format='%(asctime)s:%(levelname)s:%(message)s')\n",
    "\n",
    "# Function to add two matrices\n",
    "def matrix_addition(A, B):\n",
    "    try:\n",
    "        # Check if matrices are empty\n",
    "        if not A or not B:\n",
    "            raise ValueError(\"One of the matrices is empty.\")\n",
    "        \n",
    "        # Check if matrix dimensions match for addition\n",
    "        if len(A) != len(B) or len(A[0]) != len(B[0]):\n",
    "            raise ValueError(\"Matrix dimensions do not match for addition.\")\n",
    "        \n",
    "        # Adding matrices element-wise using nested loops\n",
    "        result = [[A[i][j] + B[i][j] for j in range(len(A[0]))] for i in range(len(A))]\n",
    "        return result\n",
    "    \n",
    "    except Exception as e:\n",
    "        logging.error(f\"Matrix addition error: {e}\")\n",
    "        return str(e)\n",
    "\n",
    "# Function to subtract two matrices\n",
    "def matrix_subtraction(A, B):\n",
    "    try:\n",
    "        # Check if matrices are empty\n",
    "        if not A or not B:\n",
    "            raise ValueError(\"One of the matrices is empty.\")\n",
    "        \n",
    "        # Check if matrix dimensions match for subtraction\n",
    "        if len(A) != len(B) or len(A[0]) != len(B[0]):\n",
    "            raise ValueError(\"Matrix dimensions do not match for subtraction.\")\n",
    "        \n",
    "        # Subtracting matrices element-wise using nested loops\n",
    "        result = [[A[i][j] - B[i][j] for j in range(len(A[0]))] for i in range(len(A))]\n",
    "        return result\n",
    "    \n",
    "    except Exception as e:\n",
    "        logging.error(f\"Matrix subtraction error: {e}\")\n",
    "        return str(e)\n",
    "\n",
    "# Function to multiply two matrices\n",
    "def matrix_multiplication(A, B):\n",
    "    try:\n",
    "        # Check if matrices are empty\n",
    "        if not A or not B:\n",
    "            raise ValueError(\"One of the matrices is empty.\")\n",
    "        \n",
    "        # Check if matrix dimensions match for multiplication\n",
    "        if len(A[0]) != len(B):\n",
    "            raise ValueError(\"Matrix dimensions do not match for multiplication.\")\n",
    "        \n",
    "        # Multiplying matrices using nested loops\n",
    "        result = [[sum(A[i][k] * B[k][j] for k in range(len(B))) for j in range(len(B[0]))] for i in range(len(A))]\n",
    "        return result\n",
    "    \n",
    "    except Exception as e:\n",
    "        logging.error(f\"Matrix multiplication error: {e}\")\n",
    "        return str(e)\n",
    "\n",
    "# Function to validate matrix entries\n",
    "def validate_matrix(matrix):\n",
    "    try:\n",
    "        # Check if matrix is empty\n",
    "        if not matrix:\n",
    "            raise ValueError(\"Matrix is empty.\")\n",
    "        \n",
    "        # Check if all entries in the matrix are numeric\n",
    "        for row in matrix:\n",
    "            if not all(isinstance(item, (int, float)) for item in row):\n",
    "                raise ValueError(\"Matrix contains non-numeric entries.\")\n",
    "        \n",
    "        return True\n",
    "    \n",
    "    except Exception as e:\n",
    "        logging.error(f\"Matrix validation error: {e}\")\n",
    "        return False\n",
    "\n",
    "# Sample matrices for testing\n",
    "matrix_A = [[3,6],[6,7]]\n",
    "matrix_B = [[5, 6], [7, 8]]\n",
    "\n",
    "# Matrix operations\n",
    "if validate_matrix(matrix_A) and validate_matrix(matrix_B):\n",
    "    print(\"Matrix Addition:\")\n",
    "    print(matrix_addition(matrix_A, matrix_B))\n",
    "\n",
    "    print(\"\\nMatrix Subtraction:\")\n",
    "    print(matrix_subtraction(matrix_A, matrix_B))\n",
    "\n",
    "    print(\"\\nMatrix Multiplication:\")\n",
    "    print(matrix_multiplication(matrix_A, matrix_B))\n",
    "else:\n",
    "    print(\"Invalid matrix input.\")"
   ]
  },
  {
   "cell_type": "code",
   "execution_count": null,
   "id": "f7a3a478",
   "metadata": {},
   "outputs": [],
   "source": []
  },
  {
   "cell_type": "code",
   "execution_count": 7,
   "id": "0e03f41d",
   "metadata": {},
   "outputs": [
    {
     "name": "stdout",
     "output_type": "stream",
     "text": [
      "Enter the number of rows for Matrix 1: 2\n",
      "Enter the number of columns for Matrix 1: 2\n",
      "Enter the elements for a 2x2 matrix row by row (separate by space):\n",
      "Enter row 1: 2 6\n",
      "Enter row 2: 6 4\n",
      "Enter the number of rows for Matrix 2: 2\n",
      "Enter the number of columns for Matrix 2: 2\n",
      "Enter the elements for a 2x2 matrix row by row (separate by space):\n",
      "Enter row 1: 7 3\n",
      "Enter row 2: 9 6\n",
      "\n",
      "Choose the operation you want to perform:\n",
      "1. Addition\n",
      "2. Subtraction\n",
      "3. Multiplication\n",
      "Enter your choice (1/2/3): 1\n",
      "\n",
      "Matrix Addition Result:\n",
      "[9.0, 9.0]\n",
      "[15.0, 10.0]\n",
      "Enter the number of rows for Matrix 1: s\n",
      "Error: invalid literal for int() with base 10: 's'\n"
     ]
    }
   ],
   "source": [
    "import logging\n",
    "\n",
    "# Configure logging\n",
    "logging.basicConfig(filename='matrix_operations.log', level=logging.ERROR,\n",
    "                    format='%(asctime)s:%(levelname)s:%(message)s')\n",
    "\n",
    "# Function to check if a matrix is valid\n",
    "def is_valid_matrix(matrix):\n",
    "    if not matrix or not all(matrix):  # Check if matrix is empty or contains empty rows\n",
    "        return False\n",
    "    return True\n",
    "\n",
    "# Function to check if all elements are numeric\n",
    "def are_numeric_elements(matrix):\n",
    "    try:\n",
    "        for row in matrix:\n",
    "            for element in row:\n",
    "                float(element)  # Try converting to float\n",
    "        return True\n",
    "    except ValueError:\n",
    "        return False\n",
    "\n",
    "# Function to add two matrices\n",
    "def add_matrices(matrix1, matrix2):\n",
    "    try:\n",
    "        if not (is_valid_matrix(matrix1) and is_valid_matrix(matrix2)):\n",
    "            raise ValueError(\"One or both matrices are empty.\")\n",
    "        \n",
    "        if len(matrix1) != len(matrix2) or len(matrix1[0]) != len(matrix2[0]):\n",
    "            raise ValueError(\"Matrices must have the same dimensions for addition.\")\n",
    "        \n",
    "        if not (are_numeric_elements(matrix1) and are_numeric_elements(matrix2)):\n",
    "            raise ValueError(\"Matrices must contain only numeric values.\")\n",
    "        \n",
    "        result = [[matrix1[i][j] + matrix2[i][j] for j in range(len(matrix1[0]))] for i in range(len(matrix1))]\n",
    "        return result\n",
    "    \n",
    "    except ValueError as e:\n",
    "        logging.error(e)\n",
    "        print(f\"Error: {e}\")\n",
    "        return None\n",
    "\n",
    "# Function to subtract two matrices\n",
    "def subtract_matrices(matrix1, matrix2):\n",
    "    try:\n",
    "        if not (is_valid_matrix(matrix1) and is_valid_matrix(matrix2)):\n",
    "            raise ValueError(\"One or both matrices are empty.\")\n",
    "        \n",
    "        if len(matrix1) != len(matrix2) or len(matrix1[0]) != len(matrix2[0]):\n",
    "            raise ValueError(\"Matrices must have the same dimensions for subtraction.\")\n",
    "        \n",
    "        if not (are_numeric_elements(matrix1) and are_numeric_elements(matrix2)):\n",
    "            raise ValueError(\"Matrices must contain only numeric values.\")\n",
    "        \n",
    "        result = [[matrix1[i][j] - matrix2[i][j] for j in range(len(matrix1[0]))] for i in range(len(matrix1))]\n",
    "        return result\n",
    "    \n",
    "    except ValueError as e:\n",
    "        logging.error(e)\n",
    "        print(f\"Error: {e}\")\n",
    "        return None\n",
    "\n",
    "# Function to multiply two matrices\n",
    "def multiply_matrices(matrix1, matrix2):\n",
    "    try:\n",
    "        if not (is_valid_matrix(matrix1) and is_valid_matrix(matrix2)):\n",
    "            raise ValueError(\"One or both matrices are empty.\")\n",
    "        \n",
    "        if len(matrix1[0]) != len(matrix2):\n",
    "            raise ValueError(\"Matrices must have compatible dimensions for multiplication.\")\n",
    "        \n",
    "        if not (are_numeric_elements(matrix1) and are_numeric_elements(matrix2)):\n",
    "            raise ValueError(\"Matrices must contain only numeric values.\")\n",
    "        \n",
    "        result = [[sum(matrix1[i][k] * matrix2[k][j] for k in range(len(matrix2))) for j in range(len(matrix2[0]))] for i in range(len(matrix1))]\n",
    "        return result\n",
    "    \n",
    "    except ValueError as e:\n",
    "        logging.error(e)\n",
    "        print(f\"Error: {e}\")\n",
    "        return None\n",
    "\n",
    "# Function to take matrix input from the user\n",
    "def input_matrix(rows, cols):\n",
    "    matrix = []\n",
    "    print(f\"Enter the elements for a {rows}x{cols} matrix row by row (separate by space):\")\n",
    "    for i in range(rows):\n",
    "        while True:\n",
    "            try:\n",
    "                row = input(f\"Enter row {i + 1}: \").split()\n",
    "                if len(row) != cols:\n",
    "                    raise ValueError(\"The number of elements in the row does not match the number of columns.\")\n",
    "                \n",
    "                row = [float(x) for x in row]  # Convert all elements to float\n",
    "                matrix.append(row)\n",
    "                break\n",
    "            except ValueError as e:\n",
    "                print(f\"Error: {e}\")\n",
    "                logging.error(e)\n",
    "                print(\"Please re-enter the row correctly.\")\n",
    "    \n",
    "    return matrix\n",
    "\n",
    "# Main function to get user inputs and perform operations\n",
    "def main():\n",
    "    try:\n",
    "        # Get matrix dimensions from the user\n",
    "        rows1 = int(input(\"Enter the number of rows for Matrix 1: \"))\n",
    "        cols1 = int(input(\"Enter the number of columns for Matrix 1: \"))\n",
    "        matrix1 = input_matrix(rows1, cols1)\n",
    "        \n",
    "        rows2 = int(input(\"Enter the number of rows for Matrix 2: \"))\n",
    "        cols2 = int(input(\"Enter the number of columns for Matrix 2: \"))\n",
    "        matrix2 = input_matrix(rows2, cols2)\n",
    "        \n",
    "        # Ask the user which operation to perform\n",
    "        print(\"\\nChoose the operation you want to perform:\")\n",
    "        print(\"1. Addition\")\n",
    "        print(\"2. Subtraction\")\n",
    "        print(\"3. Multiplication\")\n",
    "        choice = int(input(\"Enter your choice (1/2/3): \"))\n",
    "        \n",
    "        if choice == 1:\n",
    "            if rows1 == rows2 and cols1 == cols2:\n",
    "                result = add_matrices(matrix1, matrix2)\n",
    "                if result:\n",
    "                    print(\"\\nMatrix Addition Result:\")\n",
    "                    for row in result:\n",
    "                        print(row)\n",
    "            else:\n",
    "                print(\"Matrices must have the same dimensions for addition.\")\n",
    "        \n",
    "        elif choice == 2:\n",
    "            if rows1 == rows2 and cols1 == cols2:\n",
    "                result = subtract_matrices(matrix1, matrix2)\n",
    "                if result:\n",
    "                    print(\"\\nMatrix Subtraction Result:\")\n",
    "                    for row in result:\n",
    "                        print(row)\n",
    "            else:\n",
    "                print(\"Matrices must have the same dimensions for subtraction.\")\n",
    "        \n",
    "        elif choice == 3:\n",
    "            if cols1 == rows2:\n",
    "                result = multiply_matrices(matrix1, matrix2)\n",
    "                if result:\n",
    "                    print(\"\\nMatrix Multiplication Result:\")\n",
    "                    for row in result:\n",
    "                        print(row)\n",
    "            else:\n",
    "                print(\"Matrices must have compatible dimensions for multiplication.\")\n",
    "        \n",
    "        else:\n",
    "            print(\"Invalid choice. Please select 1, 2, or 3.\")\n",
    "    \n",
    "    except ValueError as e:\n",
    "        logging.error(e)\n",
    "        print(f\"Error: {e}\")\n",
    "\n",
    "# Run the main function\n",
    "if __name__ == \"__main__\":\n",
    "    main()\n",
    "import logging\n",
    "\n",
    "# Configure logging\n",
    "logging.basicConfig(filename='matrix_operations.log', level=logging.ERROR,\n",
    "                    format='%(asctime)s:%(levelname)s:%(message)s')\n",
    "\n",
    "# Function to check if a matrix is valid\n",
    "def is_valid_matrix(matrix):\n",
    "    if not matrix or not all(matrix):  # Check if matrix is empty or contains empty rows\n",
    "        return False\n",
    "    return True\n",
    "\n",
    "# Function to check if all elements are numeric\n",
    "def are_numeric_elements(matrix):\n",
    "    try:\n",
    "        for row in matrix:\n",
    "            for element in row:\n",
    "                float(element)  # Try converting to float\n",
    "        return True\n",
    "    except ValueError:\n",
    "        return False\n",
    "\n",
    "# Function to add two matrices\n",
    "def add_matrices(matrix1, matrix2):\n",
    "    try:\n",
    "        if not (is_valid_matrix(matrix1) and is_valid_matrix(matrix2)):\n",
    "            raise ValueError(\"One or both matrices are empty.\")\n",
    "        \n",
    "        if len(matrix1) != len(matrix2) or len(matrix1[0]) != len(matrix2[0]):\n",
    "            raise ValueError(\"Matrices must have the same dimensions for addition.\")\n",
    "        \n",
    "        if not (are_numeric_elements(matrix1) and are_numeric_elements(matrix2)):\n",
    "            raise ValueError(\"Matrices must contain only numeric values.\")\n",
    "        \n",
    "        result = [[matrix1[i][j] + matrix2[i][j] for j in range(len(matrix1[0]))] for i in range(len(matrix1))]\n",
    "        return result\n",
    "    \n",
    "    except ValueError as e:\n",
    "        logging.error(e)\n",
    "        print(f\"Error: {e}\")\n",
    "        return None\n",
    "\n",
    "# Function to subtract two matrices\n",
    "def subtract_matrices(matrix1, matrix2):\n",
    "    try:\n",
    "        if not (is_valid_matrix(matrix1) and is_valid_matrix(matrix2)):\n",
    "            raise ValueError(\"One or both matrices are empty.\")\n",
    "        \n",
    "        if len(matrix1) != len(matrix2) or len(matrix1[0]) != len(matrix2[0]):\n",
    "            raise ValueError(\"Matrices must have the same dimensions for subtraction.\")\n",
    "        \n",
    "        if not (are_numeric_elements(matrix1) and are_numeric_elements(matrix2)):\n",
    "            raise ValueError(\"Matrices must contain only numeric values.\")\n",
    "        \n",
    "        result = [[matrix1[i][j] - matrix2[i][j] for j in range(len(matrix1[0]))] for i in range(len(matrix1))]\n",
    "        return result\n",
    "    \n",
    "    except ValueError as e:\n",
    "        logging.error(e)\n",
    "        print(f\"Error: {e}\")\n",
    "        return None\n",
    "\n",
    "# Function to multiply two matrices\n",
    "def multiply_matrices(matrix1, matrix2):\n",
    "    try:\n",
    "        if not (is_valid_matrix(matrix1) and is_valid_matrix(matrix2)):\n",
    "            raise ValueError(\"One or both matrices are empty.\")\n",
    "        \n",
    "        if len(matrix1[0]) != len(matrix2):\n",
    "            raise ValueError(\"Matrices must have compatible dimensions for multiplication.\")\n",
    "        \n",
    "        if not (are_numeric_elements(matrix1) and are_numeric_elements(matrix2)):\n",
    "            raise ValueError(\"Matrices must contain only numeric values.\")\n",
    "        \n",
    "        result = [[sum(matrix1[i][k] * matrix2[k][j] for k in range(len(matrix2))) for j in range(len(matrix2[0]))] for i in range(len(matrix1))]\n",
    "        return result\n",
    "    \n",
    "    except ValueError as e:\n",
    "        logging.error(e)\n",
    "        print(f\"Error: {e}\")\n",
    "        return None\n",
    "\n",
    "# Function to take matrix input from the user\n",
    "def input_matrix(rows, cols):\n",
    "    matrix = []\n",
    "    print(f\"Enter the elements for a {rows}x{cols} matrix row by row (separate by space):\")\n",
    "    for i in range(rows):\n",
    "        while True:\n",
    "            try:\n",
    "                row = input(f\"Enter row {i + 1}: \").split()\n",
    "                if len(row) != cols:\n",
    "                    raise ValueError(\"The number of elements in the row does not match the number of columns.\")\n",
    "                \n",
    "                row = [float(x) for x in row]  # Convert all elements to float\n",
    "                matrix.append(row)\n",
    "                break\n",
    "            except ValueError as e:\n",
    "                print(f\"Error: {e}\")\n",
    "                logging.error(e)\n",
    "                print(\"Please re-enter the row correctly.\")\n",
    "    \n",
    "    return matrix\n",
    "\n",
    "# Main function to get user inputs and perform operations\n",
    "def main():\n",
    "    try:\n",
    "        # Get matrix dimensions from the user\n",
    "        rows1 = int(input(\"Enter the number of rows for Matrix 1: \"))\n",
    "        cols1 = int(input(\"Enter the number of columns for Matrix 1: \"))\n",
    "        matrix1 = input_matrix(rows1, cols1)\n",
    "        \n",
    "        rows2 = int(input(\"Enter the number of rows for Matrix 2: \"))\n",
    "        cols2 = int(input(\"Enter the number of columns for Matrix 2: \"))\n",
    "        matrix2 = input_matrix(rows2, cols2)\n",
    "        \n",
    "        # Ask the user which operation to perform\n",
    "        print(\"\\nChoose the operation you want to perform:\")\n",
    "        print(\"1. Addition\")\n",
    "        print(\"2. Subtraction\")\n",
    "        print(\"3. Multiplication\")\n",
    "        choice = int(input(\"Enter your choice (1/2/3): \"))\n",
    "        \n",
    "        if choice == 1:\n",
    "            if rows1 == rows2 and cols1 == cols2:\n",
    "                result = add_matrices(matrix1, matrix2)\n",
    "                if result:\n",
    "                    print(\"\\nMatrix Addition Result:\")\n",
    "                    for row in result:\n",
    "                        print(row)\n",
    "            else:\n",
    "                print(\"Matrices must have the same dimensions for addition.\")\n",
    "        \n",
    "        elif choice == 2:\n",
    "            if rows1 == rows2 and cols1 == cols2:\n",
    "                result = subtract_matrices(matrix1, matrix2)\n",
    "                if result:\n",
    "                    print(\"\\nMatrix Subtraction Result:\")\n",
    "                    for row in result:\n",
    "                        print(row)\n",
    "            else:\n",
    "                print(\"Matrices must have the same dimensions for subtraction.\")\n",
    "        \n",
    "        elif choice == 3:\n",
    "            if cols1 == rows2:\n",
    "                result = multiply_matrices(matrix1, matrix2)\n",
    "                if result:\n",
    "                    print(\"\\nMatrix Multiplication Result:\")\n",
    "                    for row in result:\n",
    "                        print(row)\n",
    "            else:\n",
    "                print(\"Matrices must have compatible dimensions for multiplication.\")\n",
    "        \n",
    "        else:\n",
    "            print(\"Invalid choice. Please select 1, 2, or 3.\")\n",
    "    \n",
    "    except ValueError as e:\n",
    "        logging.error(e)\n",
    "        print(f\"Error: {e}\")\n",
    "\n",
    "# Run the main function\n",
    "if __name__ == \"__main__\":\n",
    "    main()\n"
   ]
  },
  {
   "cell_type": "code",
   "execution_count": null,
   "id": "50fb2e91",
   "metadata": {},
   "outputs": [],
   "source": []
  },
  {
   "cell_type": "code",
   "execution_count": null,
   "id": "4e2c3d42",
   "metadata": {},
   "outputs": [],
   "source": []
  },
  {
   "cell_type": "code",
   "execution_count": 6,
   "id": "01b57a23",
   "metadata": {},
   "outputs": [
    {
     "name": "stdout",
     "output_type": "stream",
     "text": [
      "Processing line 1: Sandeep,20,sandy@gmail.com,1111\n",
      "Processed Data: {'name': 'Sandeep', 'age': 20, 'email': 'sandy@gmail.com', 'salary': 1111.0}\n",
      "Processing line 2: Sandeep Kumar,20,sandeep@gmail.com,1234\n",
      "Processed Data: {'name': 'Sandeep Kumar', 'age': 20, 'email': 'sandeep@gmail.com', 'salary': 1234.0}\n",
      "Processing line 3: Random Person,12,theirname@gmail.com,0000\n",
      "Processed Data: {'name': 'Random Person', 'age': 12, 'email': 'theirname@gmail.com', 'salary': 0.0}\n"
     ]
    }
   ],
   "source": [
    "# Question 2\n",
    "\n",
    "import logging\n",
    "\n",
    "# Configure logging\n",
    "logging.basicConfig(filename='file_processing.log', level=logging.ERROR,\n",
    "                    format='%(asctime)s:%(levelname)s:%(message)s')\n",
    "\n",
    "# Function to process each line of the file\n",
    "def process_line(line):\n",
    "    try:\n",
    "        # Split the line into parts based on commas\n",
    "        parts = line.strip().split(',')\n",
    "\n",
    "        # Check if the line has the required number of fields (name, age, email, salary)\n",
    "        if len(parts) != 4:\n",
    "            raise ValueError(f\"Line has missing or extra fields: {line}\")\n",
    "        \n",
    "        # Extract individual fields\n",
    "        name, age, email, salary = parts\n",
    "        \n",
    "        # Validate that age is a valid integer\n",
    "        if not age.isdigit():\n",
    "            raise ValueError(f\"Invalid age format: {age} in line: {line}\")\n",
    "        \n",
    "        # Validate that salary is a valid float\n",
    "        try:\n",
    "            salary = float(salary)\n",
    "        except ValueError:\n",
    "            raise ValueError(f\"Invalid salary format: {salary} in line: {line}\")\n",
    "\n",
    "        # Here, you can add more processing logic if needed, e.g., validate the email format, etc.\n",
    "\n",
    "        # If no errors, return a dictionary with the processed data\n",
    "        return {\n",
    "            \"name\": name,\n",
    "            \"age\": int(age),\n",
    "            \"email\": email,\n",
    "            \"salary\": salary\n",
    "        }\n",
    "    \n",
    "    except ValueError as e:\n",
    "        # Log any formatting issues or exceptions\n",
    "        logging.error(e)\n",
    "        print(f\"Error processing line: {e}\")\n",
    "        return None\n",
    "\n",
    "# Function to read and process the file\n",
    "def process_file(filename):\n",
    "    try:\n",
    "        with open(filename, 'r') as file:\n",
    "            for line_num, line in enumerate(file, start=1):\n",
    "                print(f\"Processing line {line_num}: {line.strip()}\")\n",
    "                result = process_line(line)\n",
    "                if result:\n",
    "                    print(f\"Processed Data: {result}\")\n",
    "                else:\n",
    "                    print(f\"Line {line_num} could not be processed.\")\n",
    "    \n",
    "    except FileNotFoundError as e:\n",
    "        logging.error(e)\n",
    "        print(f\"Error: File not found - {filename}\")\n",
    "\n",
    "# Example Usage\n",
    "if __name__ == \"__main__\":\n",
    "    filename = 'pandas.txt' \n",
    "    process_file(filename)\n"
   ]
  },
  {
   "cell_type": "code",
   "execution_count": null,
   "id": "2eaceeca",
   "metadata": {},
   "outputs": [],
   "source": []
  },
  {
   "cell_type": "code",
   "execution_count": null,
   "id": "d4f5f8ab",
   "metadata": {},
   "outputs": [],
   "source": []
  },
  {
   "cell_type": "code",
   "execution_count": 9,
   "id": "1f06eef4",
   "metadata": {},
   "outputs": [
    {
     "name": "stdout",
     "output_type": "stream",
     "text": [
      "Enter the path of the directory to calculate its size: D:\\7th Sem\n",
      "\n",
      "The total size of all files in 'D:\\7th Sem' is 1074958829 bytes.\n"
     ]
    }
   ],
   "source": [
    "#Question 3\n",
    "\n",
    "import os\n",
    "import logging\n",
    "\n",
    "# Configure logging\n",
    "logging.basicConfig(filename='directory_size.log', level=logging.INFO,\n",
    "                    format='%(asctime)s:%(levelname)s:%(message)s')\n",
    "\n",
    "# Recursive function to calculate the total size of all files in a directory\n",
    "def get_directory_size(path):\n",
    "    total_size = 0\n",
    "    \n",
    "    try:\n",
    "        # List all the items in the directory\n",
    "        with os.scandir(path) as it:\n",
    "            for entry in it:\n",
    "                try:\n",
    "                    if entry.is_file():\n",
    "                        # If it's a file, add its size to total_size\n",
    "                        file_size = os.path.getsize(entry.path)\n",
    "                        total_size += file_size\n",
    "                        logging.info(f\"File: {entry.path}, Size: {file_size} bytes\")\n",
    "                    elif entry.is_dir(follow_symlinks=False):\n",
    "                        # If it's a directory, make a recursive call to calculate its size\n",
    "                        logging.info(f\"Entering directory: {entry.path}\")\n",
    "                        dir_size = get_directory_size(entry.path)\n",
    "                        total_size += dir_size\n",
    "                except PermissionError as e:\n",
    "                    logging.error(f\"Permission denied: {entry.path} - {e}\")\n",
    "                except FileNotFoundError as e:\n",
    "                    logging.error(f\"File not found: {entry.path} - {e}\")\n",
    "    \n",
    "    except FileNotFoundError as e:\n",
    "        logging.error(f\"Directory not found: {path} - {e}\")\n",
    "    except PermissionError as e:\n",
    "        logging.error(f\"Permission denied: {path} - {e}\")\n",
    "    \n",
    "    return total_size\n",
    "\n",
    "# Main function to handle user input and initiate the directory size calculation\n",
    "def main():\n",
    "    try:\n",
    "        # Get the directory path from the user\n",
    "        dir_path = input(\"Enter the path of the directory to calculate its size: \")\n",
    "        \n",
    "        # Check if the provided path exists and is a directory\n",
    "        if not os.path.exists(dir_path):\n",
    "            raise FileNotFoundError(f\"Directory does not exist: {dir_path}\")\n",
    "        if not os.path.isdir(dir_path):\n",
    "            raise NotADirectoryError(f\"The path is not a directory: {dir_path}\")\n",
    "        \n",
    "        # Call the recursive function to calculate the total size\n",
    "        total_size = get_directory_size(dir_path)\n",
    "        \n",
    "        print(f\"\\nThe total size of all files in '{dir_path}' is {total_size} bytes.\")\n",
    "        logging.info(f\"Total size of '{dir_path}': {total_size} bytes\")\n",
    "    \n",
    "    except FileNotFoundError as e:\n",
    "        logging.error(e)\n",
    "        print(f\"Error: {e}\")\n",
    "    except NotADirectoryError as e:\n",
    "        logging.error(e)\n",
    "        print(f\"Error: {e}\")\n",
    "\n",
    "# Run the main function\n",
    "if __name__ == \"__main__\":\n",
    "    main()\n"
   ]
  },
  {
   "cell_type": "code",
   "execution_count": null,
   "id": "44bde479",
   "metadata": {},
   "outputs": [],
   "source": []
  }
 ],
 "metadata": {
  "kernelspec": {
   "display_name": "Python 3 (ipykernel)",
   "language": "python",
   "name": "python3"
  },
  "language_info": {
   "codemirror_mode": {
    "name": "ipython",
    "version": 3
   },
   "file_extension": ".py",
   "mimetype": "text/x-python",
   "name": "python",
   "nbconvert_exporter": "python",
   "pygments_lexer": "ipython3",
   "version": "3.9.12"
  }
 },
 "nbformat": 4,
 "nbformat_minor": 5
}
